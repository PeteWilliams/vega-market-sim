{
 "cells": [
  {
   "cell_type": "code",
   "execution_count": 1,
   "metadata": {},
   "outputs": [],
   "source": [
    "%load_ext autoreload\n",
    "%autoreload 2"
   ]
  },
  {
   "cell_type": "code",
   "execution_count": 2,
   "metadata": {},
   "outputs": [],
   "source": [
    "from collections import namedtuple\n",
    "import vega_sim\n",
    "from vega_sim.null_service import VegaServiceNull"
   ]
  },
  {
   "cell_type": "code",
   "execution_count": 3,
   "metadata": {},
   "outputs": [],
   "source": [
    "WalletConfig = namedtuple(\"WalletConfig\", [\"name\", \"passphrase\"])\n",
    "\n",
    "MM_WALLET = WalletConfig(\"mm\", \"pin\")\n",
    "\n",
    "AUCTION1 = WalletConfig(\"auction1\", \"auction1\")\n",
    "AUCTION2 = WalletConfig(\"auction2\", \"auction2\")\n",
    "\n",
    "TRADER_WALLET = WalletConfig(\"TRADER\", \"TRADER\")\n",
    "\n",
    "RANDOM_WALLET = WalletConfig(\"RANDOM\", \"RANDOM\")\n",
    "\n",
    "TERMINATE_WALLET = WalletConfig(\"TERMINATE\", \"TERMINATE\")\n",
    "\n",
    "WALLETS = [MM_WALLET, TRADER_WALLET, RANDOM_WALLET, TERMINATE_WALLET, AUCTION1, AUCTION2]\n",
    "\n",
    "\n",
    "TRADER1_WALLET = WalletConfig(\"TRADER1\", \"TRADER\")\n",
    "\n",
    "TRADER2_WALLET = WalletConfig(\"TRADER2\", \"TRADER\")"
   ]
  },
  {
   "cell_type": "code",
   "execution_count": 4,
   "metadata": {},
   "outputs": [
    {
     "name": "stderr",
     "output_type": "stream",
     "text": [
      "INFO:vega_sim.null_service:Running NullChain from vegahome of /var/folders/yj/cjhtlxn90wldd1hvw5lkxnrc0000gn/T/tmps83lipaq\n",
      "INFO:vega_sim.null_service:Launching GraphQL node at port 53553\n",
      "INFO:vega_sim.null_service:Launching Console at port 53559\n"
     ]
    }
   ],
   "source": [
    "vega = VegaServiceNull(warn_on_raw_data_access=False,run_with_console=False, transactions_per_block=1, retain_log_files=True)\n",
    "vega.start()"
   ]
  },
  {
   "cell_type": "code",
   "execution_count": 5,
   "metadata": {},
   "outputs": [
    {
     "data": {
      "text/plain": [
       "'http://localhost:53550'"
      ]
     },
     "execution_count": 5,
     "metadata": {},
     "output_type": "execute_result"
    }
   ],
   "source": [
    "vega.wallet_url"
   ]
  },
  {
   "cell_type": "code",
   "execution_count": 6,
   "metadata": {},
   "outputs": [],
   "source": [
    "for wallet in WALLETS + [TRADER1_WALLET, TRADER2_WALLET]:\n",
    "    vega.create_wallet(wallet.name, wallet.passphrase)"
   ]
  },
  {
   "cell_type": "code",
   "execution_count": 7,
   "metadata": {},
   "outputs": [],
   "source": [
    "vega.mint(MM_WALLET.name, asset=\"VOTE\", amount=1e4,)\n",
    "vega.forward(\"10s\")\n",
    "vega.wait_for_total_catchup()"
   ]
  },
  {
   "cell_type": "code",
   "execution_count": 8,
   "metadata": {},
   "outputs": [],
   "source": [
    "# Create asset\n",
    "vega.create_asset(\n",
    "    MM_WALLET.name,\n",
    "    name=\"tDAI\",\n",
    "    symbol=\"tDAI\",\n",
    "    decimals=5,\n",
    "    max_faucet_amount=1e10,\n",
    ")\n",
    "vega.wait_fn(10)\n",
    "vega.wait_for_datanode_sync()"
   ]
  },
  {
   "cell_type": "code",
   "execution_count": 9,
   "metadata": {},
   "outputs": [],
   "source": [
    "tDAI_id = vega.find_asset_id(symbol=\"tDAI\")"
   ]
  },
  {
   "cell_type": "code",
   "execution_count": 10,
   "metadata": {},
   "outputs": [],
   "source": [
    "for wallet in WALLETS:\n",
    "    vega.mint(\n",
    "        wallet.name,\n",
    "        asset=tDAI_id,\n",
    "        amount=1000000,\n",
    "    )\n",
    "vega.forward(\"10s\")\n",
    "vega.wait_for_total_catchup()"
   ]
  },
  {
   "cell_type": "code",
   "execution_count": 11,
   "metadata": {},
   "outputs": [],
   "source": [
    "vega.mint(\n",
    "        TRADER1_WALLET.name,\n",
    "        asset=tDAI_id,\n",
    "        amount=2000,\n",
    "    )\n",
    "vega.mint(\n",
    "        TRADER2_WALLET.name,\n",
    "        asset=tDAI_id,\n",
    "        amount=90,\n",
    "    )"
   ]
  },
  {
   "cell_type": "code",
   "execution_count": 12,
   "metadata": {},
   "outputs": [
    {
     "data": {
      "text/plain": [
       "AccountData(general=1000000.0, margin=0, bond=0)"
      ]
     },
     "execution_count": 12,
     "metadata": {},
     "output_type": "execute_result"
    }
   ],
   "source": [
    "vega.party_account(MM_WALLET.name, tDAI_id, None)"
   ]
  },
  {
   "cell_type": "code",
   "execution_count": 13,
   "metadata": {},
   "outputs": [],
   "source": [
    "vega.create_simple_market(\n",
    "    market_name=\"CRYPTO:BTCDAI/DEC22\",\n",
    "    proposal_wallet=MM_WALLET.name,\n",
    "    settlement_asset_id=tDAI_id,\n",
    "    termination_wallet=TERMINATE_WALLET.name,\n",
    "    market_decimals=5,\n",
    ")\n",
    "market_id = vega.all_markets()[0].id\n",
    "vega.submit_liquidity(\n",
    "    wallet_name=MM_WALLET.name,\n",
    "    market_id=market_id,\n",
    "    commitment_amount=1000,\n",
    "    fee=0.002,\n",
    "    buy_specs=[(\"PEGGED_REFERENCE_BEST_BID\", 2, 1)],\n",
    "    sell_specs=[(\"PEGGED_REFERENCE_BEST_ASK\", 2, 1)],\n",
    "    is_amendment=False,\n",
    ")"
   ]
  },
  {
   "cell_type": "code",
   "execution_count": 14,
   "metadata": {},
   "outputs": [
    {
     "data": {
      "text/plain": [
       "'ca09da5341ddbe3950f686441fe866760b351d9f2694794e9061c5e040966ff2'"
      ]
     },
     "execution_count": 14,
     "metadata": {},
     "output_type": "execute_result"
    }
   ],
   "source": [
    "# Add transactions in the proposed market to pass opening auction at price 0.3\n",
    "vega.submit_order(\n",
    "    trading_wallet=AUCTION1.name,\n",
    "    market_id=market_id,\n",
    "    order_type=\"TYPE_LIMIT\",\n",
    "    time_in_force=\"TIME_IN_FORCE_GTC\",\n",
    "    side=\"SIDE_BUY\",\n",
    "    volume=10,\n",
    "    price=50,\n",
    ")\n",
    "\n",
    "vega.submit_order(\n",
    "    trading_wallet=AUCTION2.name,\n",
    "    market_id=market_id,\n",
    "    order_type=\"TYPE_LIMIT\",\n",
    "    time_in_force=\"TIME_IN_FORCE_GTC\",\n",
    "    side=\"SIDE_SELL\",\n",
    "    volume=10,\n",
    "    price=50,\n",
    ")\n",
    "\n",
    "vega.submit_order(\n",
    "    trading_wallet=RANDOM_WALLET.name,\n",
    "    market_id=market_id,\n",
    "    order_type=\"TYPE_LIMIT\",\n",
    "    time_in_force=\"TIME_IN_FORCE_GTC\",\n",
    "    side=\"SIDE_BUY\",\n",
    "    volume=1,\n",
    "    price=25,\n",
    "    wait=True,\n",
    ")\n",
    "vega.submit_order(\n",
    "    trading_wallet=RANDOM_WALLET.name,\n",
    "    market_id=market_id,\n",
    "    order_type=\"TYPE_LIMIT\",\n",
    "    time_in_force=\"TIME_IN_FORCE_GTC\",\n",
    "    side=\"SIDE_SELL\",\n",
    "    volume=1,\n",
    "    price=75,\n",
    "    wait=True,\n",
    ")"
   ]
  },
  {
   "cell_type": "code",
   "execution_count": 15,
   "metadata": {},
   "outputs": [
    {
     "data": {
      "text/plain": [
       "mark_price: \"5000000\"\n",
       "best_bid_price: \"2500000\"\n",
       "best_bid_volume: 81\n",
       "best_offer_price: \"7500000\"\n",
       "best_offer_volume: 28\n",
       "best_static_bid_price: \"2500000\"\n",
       "best_static_bid_volume: 1\n",
       "best_static_offer_price: \"7500000\"\n",
       "best_static_offer_volume: 1\n",
       "mid_price: \"5000000\"\n",
       "static_mid_price: \"5000000\"\n",
       "market: \"80d6b36aa98dfde4246305954a4cea863060e2cac83dc8d887171ce67b2670c1\"\n",
       "timestamp: 1638185358259066000\n",
       "open_interest: 10\n",
       "indicative_price: \"0\"\n",
       "market_trading_mode: TRADING_MODE_CONTINUOUS\n",
       "target_stake: \"2710500\"\n",
       "supplied_stake: \"100000000\"\n",
       "price_monitoring_bounds {\n",
       "  min_valid_price: \"3865599\"\n",
       "  max_valid_price: \"6449621\"\n",
       "  trigger {\n",
       "    horizon: 86400\n",
       "    probability: \"0.999999\"\n",
       "    auction_extension: 5\n",
       "  }\n",
       "  reference_price: \"5000000\"\n",
       "}\n",
       "market_value_proxy: \"100000000\"\n",
       "liquidity_provider_fee_share {\n",
       "  party: \"d7847dba7b383cc7842b40b9533cbbfed520a01b2e7369bc63987f8810d8baea\"\n",
       "  equity_like_share: \"1\"\n",
       "  average_entry_valuation: \"100000000\"\n",
       "}\n",
       "market_state: STATE_ACTIVE"
      ]
     },
     "execution_count": 15,
     "metadata": {},
     "output_type": "execute_result"
    }
   ],
   "source": [
    "vega.market_data(market_id)"
   ]
  },
  {
   "cell_type": "code",
   "execution_count": 16,
   "metadata": {},
   "outputs": [
    {
     "data": {
      "text/plain": [
       "OrderBook(bids={25.0: 81.0}, asks={75.0: 27.0})"
      ]
     },
     "execution_count": 16,
     "metadata": {},
     "output_type": "execute_result"
    }
   ],
   "source": [
    "vega.order_book_by_market(market_id)"
   ]
  },
  {
   "cell_type": "code",
   "execution_count": 17,
   "metadata": {},
   "outputs": [],
   "source": [
    "vega.update_network_parameter(MM_WALLET.name, \"market.liquidity.stakeToCcySiskas\", \"0.1\")"
   ]
  },
  {
   "cell_type": "markdown",
   "metadata": {},
   "source": [
    "### This should probably have changed"
   ]
  },
  {
   "cell_type": "code",
   "execution_count": 18,
   "metadata": {},
   "outputs": [
    {
     "data": {
      "text/plain": [
       "OrderBook(bids={25.0: 81.0}, asks={75.0: 27.0})"
      ]
     },
     "execution_count": 18,
     "metadata": {},
     "output_type": "execute_result"
    }
   ],
   "source": [
    "vega.order_book_by_market(market_id)"
   ]
  },
  {
   "cell_type": "code",
   "execution_count": 19,
   "metadata": {},
   "outputs": [],
   "source": [
    "vega.forward('10s')"
   ]
  },
  {
   "cell_type": "code",
   "execution_count": 20,
   "metadata": {},
   "outputs": [
    {
     "data": {
      "text/plain": [
       "OrderBook(bids={25.0: 81.0}, asks={75.0: 27.0})"
      ]
     },
     "execution_count": 20,
     "metadata": {},
     "output_type": "execute_result"
    }
   ],
   "source": [
    "vega.order_book_by_market(market_id)"
   ]
  },
  {
   "cell_type": "markdown",
   "metadata": {},
   "source": [
    "### But actually only changes once we place an order"
   ]
  },
  {
   "cell_type": "code",
   "execution_count": 21,
   "metadata": {},
   "outputs": [],
   "source": [
    "order_id = vega.submit_order(\n",
    "    trading_wallet=TRADER1_WALLET.name,\n",
    "    market_id=market_id,\n",
    "    order_type=\"TYPE_LIMIT\",\n",
    "    time_in_force=\"TIME_IN_FORCE_GTC\",\n",
    "    side=\"SIDE_BUY\",\n",
    "    volume=1,\n",
    "    price=50,\n",
    "    wait = True\n",
    ")\n",
    "vega.cancel_order(TRADER1_WALLET.name, market_id, order_id)"
   ]
  },
  {
   "cell_type": "code",
   "execution_count": 22,
   "metadata": {},
   "outputs": [
    {
     "data": {
      "text/plain": [
       "OrderBook(bids={25.0: 9.0}, asks={75.0: 3.0})"
      ]
     },
     "execution_count": 22,
     "metadata": {},
     "output_type": "execute_result"
    }
   ],
   "source": [
    "vega.order_book_by_market(market_id)"
   ]
  },
  {
   "cell_type": "markdown",
   "metadata": {},
   "source": [
    "### Let's check on the MM"
   ]
  },
  {
   "cell_type": "code",
   "execution_count": 23,
   "metadata": {},
   "outputs": [
    {
     "data": {
      "text/plain": [
       "AccountData(general=998975.26492, margin=24.73508, bond=1000.0)"
      ]
     },
     "execution_count": 23,
     "metadata": {},
     "output_type": "execute_result"
    }
   ],
   "source": [
    "vega.party_account(MM_WALLET.name, tDAI_id, market_id)"
   ]
  },
  {
   "cell_type": "markdown",
   "metadata": {},
   "source": [
    "### Now raise and prod again"
   ]
  },
  {
   "cell_type": "code",
   "execution_count": 24,
   "metadata": {},
   "outputs": [],
   "source": [
    "vega.update_network_parameter(MM_WALLET.name, \"market.liquidity.stakeToCcySiskas\", \"1\")"
   ]
  },
  {
   "cell_type": "code",
   "execution_count": 25,
   "metadata": {},
   "outputs": [
    {
     "data": {
      "text/plain": [
       "OrderBook(bids={25.0: 9.0}, asks={75.0: 3.0})"
      ]
     },
     "execution_count": 25,
     "metadata": {},
     "output_type": "execute_result"
    }
   ],
   "source": [
    "vega.order_book_by_market(market_id)"
   ]
  },
  {
   "cell_type": "code",
   "execution_count": 26,
   "metadata": {},
   "outputs": [],
   "source": [
    "order_id = vega.submit_order(\n",
    "    trading_wallet=TRADER1_WALLET.name,\n",
    "    market_id=market_id,\n",
    "    order_type=\"TYPE_LIMIT\",\n",
    "    time_in_force=\"TIME_IN_FORCE_GTC\",\n",
    "    side=\"SIDE_BUY\",\n",
    "    volume=1,\n",
    "    price=50,\n",
    "    wait = True\n",
    ")\n",
    "vega.cancel_order(TRADER1_WALLET.name, market_id, order_id)"
   ]
  },
  {
   "cell_type": "code",
   "execution_count": 27,
   "metadata": {},
   "outputs": [
    {
     "data": {
      "text/plain": [
       "OrderBook(bids={25.0: 81.0}, asks={75.0: 27.0})"
      ]
     },
     "execution_count": 27,
     "metadata": {},
     "output_type": "execute_result"
    }
   ],
   "source": [
    "vega.order_book_by_market(market_id)"
   ]
  },
  {
   "cell_type": "markdown",
   "metadata": {},
   "source": [
    "### Now increase a little and prod"
   ]
  },
  {
   "cell_type": "code",
   "execution_count": 28,
   "metadata": {},
   "outputs": [],
   "source": [
    "vega.update_network_parameter(MM_WALLET.name, \"market.liquidity.stakeToCcySiskas\", \"1.1\")"
   ]
  },
  {
   "cell_type": "code",
   "execution_count": 29,
   "metadata": {},
   "outputs": [
    {
     "data": {
      "text/plain": [
       "OrderBook(bids={25.0: 81.0}, asks={75.0: 27.0})"
      ]
     },
     "execution_count": 29,
     "metadata": {},
     "output_type": "execute_result"
    }
   ],
   "source": [
    "vega.order_book_by_market(market_id)"
   ]
  },
  {
   "cell_type": "code",
   "execution_count": 30,
   "metadata": {},
   "outputs": [],
   "source": [
    "order_id = vega.submit_order(\n",
    "    trading_wallet=TRADER1_WALLET.name,\n",
    "    market_id=market_id,\n",
    "    order_type=\"TYPE_LIMIT\",\n",
    "    time_in_force=\"TIME_IN_FORCE_GTC\",\n",
    "    side=\"SIDE_BUY\",\n",
    "    volume=1,\n",
    "    price=50,\n",
    "    wait = True\n",
    ")\n",
    "vega.cancel_order(TRADER1_WALLET.name, market_id, order_id)"
   ]
  },
  {
   "cell_type": "code",
   "execution_count": 31,
   "metadata": {},
   "outputs": [
    {
     "data": {
      "text/plain": [
       "OrderBook(bids={25.0: 89.0}, asks={75.0: 30.0})"
      ]
     },
     "execution_count": 31,
     "metadata": {},
     "output_type": "execute_result"
    }
   ],
   "source": [
    "vega.order_book_by_market(market_id)"
   ]
  },
  {
   "cell_type": "markdown",
   "metadata": {},
   "source": [
    "### And now back down"
   ]
  },
  {
   "cell_type": "code",
   "execution_count": 32,
   "metadata": {},
   "outputs": [],
   "source": [
    "vega.update_network_parameter(MM_WALLET.name, \"market.liquidity.stakeToCcySiskas\", \"1\")"
   ]
  },
  {
   "cell_type": "code",
   "execution_count": 33,
   "metadata": {},
   "outputs": [
    {
     "data": {
      "text/plain": [
       "OrderBook(bids={25.0: 89.0}, asks={75.0: 30.0})"
      ]
     },
     "execution_count": 33,
     "metadata": {},
     "output_type": "execute_result"
    }
   ],
   "source": [
    "vega.order_book_by_market(market_id)"
   ]
  },
  {
   "cell_type": "code",
   "execution_count": 34,
   "metadata": {},
   "outputs": [],
   "source": [
    "order_id = vega.submit_order(\n",
    "    trading_wallet=TRADER1_WALLET.name,\n",
    "    market_id=market_id,\n",
    "    order_type=\"TYPE_LIMIT\",\n",
    "    time_in_force=\"TIME_IN_FORCE_GTC\",\n",
    "    side=\"SIDE_BUY\",\n",
    "    volume=1,\n",
    "    price=50,\n",
    "    wait = True\n",
    ")\n",
    "vega.cancel_order(TRADER1_WALLET.name, market_id, order_id)"
   ]
  },
  {
   "cell_type": "code",
   "execution_count": 35,
   "metadata": {},
   "outputs": [
    {
     "data": {
      "text/plain": [
       "OrderBook(bids={25.0: 1.0}, asks={75.0: 1.0})"
      ]
     },
     "execution_count": 35,
     "metadata": {},
     "output_type": "execute_result"
    }
   ],
   "source": [
    "vega.order_book_by_market(market_id)"
   ]
  },
  {
   "cell_type": "markdown",
   "metadata": {},
   "source": [
    "### Uhhh...."
   ]
  },
  {
   "cell_type": "code",
   "execution_count": 36,
   "metadata": {},
   "outputs": [
    {
     "data": {
      "text/plain": [
       "AccountData(general=0.0, margin=724979.09662, bond=0.0)"
      ]
     },
     "execution_count": 36,
     "metadata": {},
     "output_type": "execute_result"
    }
   ],
   "source": [
    "vega.party_account(MM_WALLET.name, tDAI_id, market_id)"
   ]
  },
  {
   "cell_type": "code",
   "execution_count": 37,
   "metadata": {},
   "outputs": [
    {
     "data": {
      "text/plain": [
       "[]"
      ]
     },
     "execution_count": 37,
     "metadata": {},
     "output_type": "execute_result"
    }
   ],
   "source": [
    "vega.positions_by_market(MM_WALLET.name, market_id)"
   ]
  },
  {
   "cell_type": "code",
   "execution_count": 40,
   "metadata": {},
   "outputs": [
    {
     "data": {
      "text/plain": [
       "[]"
      ]
     },
     "execution_count": 40,
     "metadata": {},
     "output_type": "execute_result"
    }
   ],
   "source": [
    "vega.positions_by_market(TRADER1_WALLET.name, market_id)"
   ]
  },
  {
   "cell_type": "code",
   "execution_count": 38,
   "metadata": {},
   "outputs": [
    {
     "data": {
      "text/plain": [
       "mark_price: \"5000000\"\n",
       "best_bid_price: \"2500000\"\n",
       "best_bid_volume: 1\n",
       "best_offer_price: \"7500000\"\n",
       "best_offer_volume: 1\n",
       "best_static_bid_price: \"2500000\"\n",
       "best_static_bid_volume: 1\n",
       "best_static_offer_price: \"7500000\"\n",
       "best_static_offer_volume: 1\n",
       "mid_price: \"5000000\"\n",
       "static_mid_price: \"5000000\"\n",
       "market: \"80d6b36aa98dfde4246305954a4cea863060e2cac83dc8d887171ce67b2670c1\"\n",
       "timestamp: 1638185866259066000\n",
       "open_interest: 10\n",
       "auction_end: 1638185866259066000\n",
       "auction_start: 1638185863259066000\n",
       "indicative_price: \"0\"\n",
       "market_trading_mode: TRADING_MODE_MONITORING_AUCTION\n",
       "trigger: AUCTION_TRIGGER_LIQUIDITY\n",
       "extension_trigger: AUCTION_TRIGGER_LIQUIDITY\n",
       "target_stake: \"2710500\"\n",
       "supplied_stake: \"0\"\n",
       "price_monitoring_bounds {\n",
       "  min_valid_price: \"3865599\"\n",
       "  max_valid_price: \"6449621\"\n",
       "  trigger {\n",
       "    horizon: 86400\n",
       "    probability: \"0.999999\"\n",
       "    auction_extension: 5\n",
       "  }\n",
       "  reference_price: \"5000000\"\n",
       "}\n",
       "market_value_proxy: \"0\"\n",
       "market_state: STATE_SUSPENDED"
      ]
     },
     "execution_count": 38,
     "metadata": {},
     "output_type": "execute_result"
    }
   ],
   "source": [
    "vega.market_data(market_id)"
   ]
  },
  {
   "cell_type": "code",
   "execution_count": 39,
   "metadata": {},
   "outputs": [],
   "source": [
    "# vega.stop()"
   ]
  }
 ],
 "metadata": {
  "interpreter": {
   "hash": "7957c2cf3f8053ac38db03ed3e1ce9fa0b40cc734773d6ce971f5b5d7a4b5bfa"
  },
  "kernelspec": {
   "display_name": "Python 3 (ipykernel)",
   "language": "python",
   "name": "python3"
  },
  "language_info": {
   "codemirror_mode": {
    "name": "ipython",
    "version": 3
   },
   "file_extension": ".py",
   "mimetype": "text/x-python",
   "name": "python",
   "nbconvert_exporter": "python",
   "pygments_lexer": "ipython3",
   "version": "3.10.5"
  },
  "vscode": {
   "interpreter": {
    "hash": "9424ff519564ac04f09876777002455132ae85069abefbefbf1056f4bcddcfca"
   }
  }
 },
 "nbformat": 4,
 "nbformat_minor": 4
}
