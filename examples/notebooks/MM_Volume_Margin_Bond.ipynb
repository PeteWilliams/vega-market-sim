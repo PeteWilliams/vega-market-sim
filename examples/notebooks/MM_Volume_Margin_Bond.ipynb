{
 "cells": [
  {
   "cell_type": "code",
   "execution_count": 2,
   "id": "4eb2bebd-77d2-42bd-b31a-51b1abd21fba",
   "metadata": {},
   "outputs": [],
   "source": [
    "%load_ext autoreload\n",
    "%autoreload 2"
   ]
  },
  {
   "cell_type": "code",
   "execution_count": 3,
   "id": "93778ab8-58fb-4d3a-b5d5-6186db5d637d",
   "metadata": {},
   "outputs": [],
   "source": [
    "from collections import namedtuple\n",
    "\n",
    "from vega_sim.null_service import VegaServiceNull\n",
    "import vega_sim.proto.vega as vega_protos\n",
    "\n",
    "import numpy as np\n",
    "import time"
   ]
  },
  {
   "cell_type": "code",
   "execution_count": 4,
   "id": "b48d05f5-00fd-4196-a6cd-9d02bd28ff9b",
   "metadata": {},
   "outputs": [],
   "source": [
    "WalletConfig = namedtuple(\"WalletConfig\", [\"name\", \"passphrase\"])\n",
    "MM_WALLET = WalletConfig(\"mm\", \"mm\")\n",
    "TRADER_1_WALLET = WalletConfig(\"T1\", \"pin\")\n",
    "TRADER_2_WALLET = WalletConfig(\"T2\", \"pin\")\n",
    "TERMINATE_WALLET = WalletConfig(\"Settle\", \"pin\")\n",
    "\n",
    "wallets = [MM_WALLET, TRADER_1_WALLET, TRADER_2_WALLET, TERMINATE_WALLET]"
   ]
  },
  {
   "cell_type": "code",
   "execution_count": 5,
   "id": "8a55f9ef-9af4-473f-ab15-09883059e7c7",
   "metadata": {},
   "outputs": [
    {
     "name": "stderr",
     "output_type": "stream",
     "text": [
      "INFO:vega_sim.null_service:Running NullChain from vegahome of /var/folders/67/mjxp58z56yj83_1x0372gkwr0000gn/T/tmpmot1k5hm\n",
      "INFO:vega_sim.null_service:Launching GraphQL node at port 52231\n",
      "INFO:vega_sim.null_service:Launching Console at port 52237\n",
      "Using function with raw data from data-node VegaService.all_markets. Be wary if prices/positions are not converted from int form\n"
     ]
    }
   ],
   "source": [
    "vega = VegaServiceNull(run_with_console=True, use_full_vega_wallet=False)\n",
    "vega.start()"
   ]
  },
  {
   "cell_type": "markdown",
   "id": "1a794af8-c9ee-49f3-a1cd-1c8ff032b31d",
   "metadata": {},
   "source": [
    "#### Create the wallets"
   ]
  },
  {
   "cell_type": "code",
   "execution_count": 6,
   "id": "6c7e104f-2bc8-465d-82c4-94102fb0b08f",
   "metadata": {},
   "outputs": [],
   "source": [
    "for wallet in wallets:\n",
    "    vega.create_wallet(wallet.name, passphrase=wallet.passphrase)\n",
    "vega.forward('10s')"
   ]
  },
  {
   "cell_type": "markdown",
   "id": "5b75a56d-6435-4795-8286-7800c97e3933",
   "metadata": {},
   "source": [
    "#### Create the settlment asset and mint"
   ]
  },
  {
   "cell_type": "code",
   "execution_count": 7,
   "id": "2020bd42-8a53-4527-af16-d63d1b781584",
   "metadata": {},
   "outputs": [],
   "source": [
    "vega.mint(\n",
    "    MM_WALLET.name,\n",
    "    asset=\"VOTE\",\n",
    "    amount=10000,\n",
    ")\n",
    "\n",
    "vega.forward(\"20s\")\n",
    "vega.create_asset(\n",
    "    MM_WALLET.name,\n",
    "    name=\"tDAI\",\n",
    "    symbol=\"tDAI\",\n",
    "    decimals=5,\n",
    "    max_faucet_amount=10e15,  # is this including decimals or not?\n",
    ")"
   ]
  },
  {
   "cell_type": "code",
   "execution_count": 8,
   "id": "dcc18fdb-4a5a-4c90-a62f-d34ed9709c8d",
   "metadata": {},
   "outputs": [],
   "source": [
    "tdai_id = vega.find_asset_id(symbol=\"tDAI\")"
   ]
  },
  {
   "cell_type": "code",
   "execution_count": 9,
   "id": "08dce991-7fbc-485d-b6f2-2889b754c0d4",
   "metadata": {},
   "outputs": [],
   "source": [
    "vega.mint(\n",
    "    MM_WALLET.name,\n",
    "    tdai_id,\n",
    "    amount=10e7\n",
    ")\n",
    "vega.mint(\n",
    "    TRADER_1_WALLET.name,\n",
    "    tdai_id,\n",
    "    amount=10e5\n",
    ")\n",
    "vega.mint(\n",
    "    TRADER_2_WALLET.name,\n",
    "    tdai_id,\n",
    "    amount=10e5\n",
    ")\n",
    "vega.wait_for_total_catchup()"
   ]
  },
  {
   "cell_type": "markdown",
   "id": "0aa86258",
   "metadata": {},
   "source": [
    "#### Update network parameters we want "
   ]
  },
  {
   "cell_type": "code",
   "execution_count": 10,
   "id": "f60ebbb5",
   "metadata": {},
   "outputs": [],
   "source": [
    "vega.update_network_parameter(MM_WALLET.name, \"market.liquidity.stakeToCcySiskas\", \"1.0\")\n",
    "vega.forward('10s')\n",
    "vega.wait_for_total_catchup()\n",
    "vega.update_network_parameter(MM_WALLET.name, \"market.liquidity.probabilityOfTrading.tau.scaling\", \"10.0\")"
   ]
  },
  {
   "cell_type": "markdown",
   "id": "5e50c3fe-55af-4ff1-a1ef-1de2b2573ece",
   "metadata": {},
   "source": [
    "#### Create the market and set up liquidity"
   ]
  },
  {
   "cell_type": "code",
   "execution_count": 11,
   "id": "b329b75c-0e27-4b3d-b5c6-0b1a34a04894",
   "metadata": {},
   "outputs": [],
   "source": [
    "mdp=1\n",
    "tick=np.power(10.0,-mdp)\n",
    "vega.create_simple_market(\n",
    "        market_name=\"ETHUSD_Dec23\",\n",
    "        proposal_wallet=MM_WALLET.name,\n",
    "        settlement_asset_id=tdai_id,\n",
    "        termination_wallet=TERMINATE_WALLET.name,\n",
    "        position_decimals=2,\n",
    "        market_decimals=mdp,\n",
    "        risk_aversion=0.000001,\n",
    "        tau=1.0/365.25/24,\n",
    "        sigma=1,\n",
    "    )"
   ]
  },
  {
   "cell_type": "code",
   "execution_count": 12,
   "id": "4e6762d4-a986-492d-84fe-59b3a1a562ff",
   "metadata": {},
   "outputs": [
    {
     "name": "stderr",
     "output_type": "stream",
     "text": [
      "Using function with raw data from data-node VegaService.all_markets. Be wary if prices/positions are not converted from int form\n"
     ]
    },
    {
     "name": "stdout",
     "output_type": "stream",
     "text": [
      "5b1492fdf194aa5c5b7b76014b61a48dafe1660e4b53f24267eb38e01ca19379\n"
     ]
    }
   ],
   "source": [
    "market_id = vega.all_markets()[0].id\n",
    "print(market_id)"
   ]
  },
  {
   "cell_type": "code",
   "execution_count": 13,
   "id": "49afceef-d159-4afb-85e1-e7c47eaf3a6c",
   "metadata": {},
   "outputs": [],
   "source": [
    "vega.submit_simple_liquidity(\n",
    "    wallet_name=MM_WALLET.name,\n",
    "    market_id=market_id,\n",
    "    commitment_amount=600,\n",
    "    fee=0.05,\n",
    "    reference_buy=\"PEGGED_REFERENCE_MID\",\n",
    "    reference_sell=\"PEGGED_REFERENCE_MID\",\n",
    "    delta_buy=10,\n",
    "    delta_sell=10,\n",
    "    is_amendment=False,\n",
    ")\n",
    "\n",
    "vega.forward('1s')\n",
    "vega.forward('1s')"
   ]
  },
  {
   "cell_type": "code",
   "execution_count": 14,
   "id": "2fb9cbaf-7d48-4b22-a590-749fe42b290e",
   "metadata": {},
   "outputs": [],
   "source": [
    "# Submit orders which will stay on the book and create best bid / ask \n",
    "price = 1500\n",
    "delta_minus = 5\n",
    "delta_plus = 5\n",
    "vega.submit_order(\n",
    "    trading_wallet=MM_WALLET.name,\n",
    "    market_id=market_id,\n",
    "    order_type=\"TYPE_LIMIT\",\n",
    "    time_in_force=\"TIME_IN_FORCE_GTC\",\n",
    "    side=\"SIDE_BUY\",\n",
    "    volume=1,\n",
    "    price=price-delta_minus,\n",
    "    wait=False,\n",
    ")\n",
    "\n",
    "vega.submit_order(\n",
    "    trading_wallet=MM_WALLET.name,\n",
    "    market_id=market_id,\n",
    "    order_type=\"TYPE_LIMIT\",\n",
    "    time_in_force=\"TIME_IN_FORCE_GTC\",\n",
    "    side=\"SIDE_SELL\",\n",
    "    volume=1,\n",
    "    price=price+delta_plus,\n",
    "    wait=False,\n",
    ")\n",
    "\n"
   ]
  },
  {
   "cell_type": "code",
   "execution_count": 15,
   "id": "7d7dd579",
   "metadata": {},
   "outputs": [
    {
     "name": "stdout",
     "output_type": "stream",
     "text": [
      "mm General = 99999204.17474\n",
      "mm Margin  = 195.82526\n",
      "mm Bond    = 600.0\n",
      "T1 General = 1000000.0\n",
      "T1 Margin  = 0\n",
      "T1 Bond    = 0\n",
      "T2 General = 1000000.0\n",
      "T2 Margin  = 0\n",
      "T2 Bond    = 0\n",
      "Settle General = 0\n",
      "Settle Margin  = 0\n",
      "Settle Bond    = 0\n"
     ]
    }
   ],
   "source": [
    "for wallet in wallets:\n",
    "    general, margin, bond = vega.party_account(wallet_name=wallet.name, asset_id=tdai_id, market_id=market_id)\n",
    "    print(wallet.name + \" General = \"+str(general))\n",
    "    print(wallet.name + \" Margin  = \"+str(margin))\n",
    "    print(wallet.name + \" Bond    = \"+str(bond))"
   ]
  },
  {
   "cell_type": "markdown",
   "id": "b6378ae4-ed75-41d8-bb66-7887d32848e3",
   "metadata": {},
   "source": [
    "#### Do some trading"
   ]
  },
  {
   "cell_type": "code",
   "execution_count": 16,
   "id": "7c3a0346-4c12-4904-956e-cc87252ad2a7",
   "metadata": {},
   "outputs": [],
   "source": [
    "# Do a trade which will cross\n",
    "vega.submit_order(\n",
    "    trading_wallet=TRADER_1_WALLET.name,\n",
    "    market_id=market_id,\n",
    "    order_type=\"TYPE_LIMIT\",\n",
    "    time_in_force=\"TIME_IN_FORCE_GTC\",\n",
    "    side=\"SIDE_BUY\",\n",
    "    volume=1,\n",
    "    price=price,\n",
    "    wait=False,\n",
    ")\n",
    "\n",
    "vega.submit_order(\n",
    "    trading_wallet=TRADER_2_WALLET.name,\n",
    "    market_id=market_id,\n",
    "    order_type=\"TYPE_LIMIT\",\n",
    "    time_in_force=\"TIME_IN_FORCE_GTC\",\n",
    "    side=\"SIDE_SELL\",\n",
    "    volume=1,\n",
    "    price=price,\n",
    "    wait=False,\n",
    ")\n",
    "vega.forward('10s')\n",
    "\n",
    "# We will now have mark price of 'price' \n"
   ]
  },
  {
   "cell_type": "code",
   "execution_count": 17,
   "id": "dae747ae",
   "metadata": {},
   "outputs": [
    {
     "name": "stdout",
     "output_type": "stream",
     "text": [
      "ask prices / volumes\n",
      "[1505.0, 1510.0, 0, 0, 0, 0, 0, 0, 0, 0, 0, 0, 0, 0, 0, 0, 0, 0, 0, 0]\n",
      "[1.0, 0.87, 0, 0, 0, 0, 0, 0, 0, 0, 0, 0, 0, 0, 0, 0, 0, 0, 0, 0]\n",
      "bid prices / volumes\n",
      "[1495.0, 1490.0, 0, 0, 0, 0, 0, 0, 0, 0, 0, 0, 0, 0, 0, 0, 0, 0, 0, 0]\n",
      "[1.0, 0.88, 0, 0, 0, 0, 0, 0, 0, 0, 0, 0, 0, 0, 0, 0, 0, 0, 0, 0]\n"
     ]
    }
   ],
   "source": [
    "num_levels = 20\n",
    "book_state = vega.market_depth(\n",
    "            market_id, num_levels=num_levels\n",
    "        )\n",
    "bid_prices=[level.price for level in book_state.buys] + [0] * max(0, num_levels - len(book_state.buys))\n",
    "ask_prices=[level.price for level in book_state.sells] + [0] * max(0, num_levels - len(book_state.sells))\n",
    "bid_volumes=[level.volume for level in book_state.buys] + [0] * max(0, num_levels - len(book_state.buys))\n",
    "ask_volumes=[level.volume for level in book_state.sells] + [0] * max(0, num_levels - len(book_state.sells))\n",
    "\n",
    "print(\"ask prices / volumes\")\n",
    "print(ask_prices)\n",
    "print(ask_volumes)\n",
    "\n",
    "print(\"bid prices / volumes\")\n",
    "print(bid_prices)\n",
    "print(bid_volumes)\n"
   ]
  },
  {
   "cell_type": "code",
   "execution_count": 18,
   "id": "7da49ab4",
   "metadata": {},
   "outputs": [
    {
     "name": "stdout",
     "output_type": "stream",
     "text": [
      "mm General = 99999217.51167\n",
      "mm Margin  = 182.48833\n",
      "mm Bond    = 600.0\n",
      "T1 General = 999901.24344\n",
      "T1 Margin  = 98.75656\n",
      "T1 Bond    = 0\n",
      "T2 General = 999896.41266\n",
      "T2 Margin  = 103.58734\n",
      "T2 Bond    = 0\n",
      "Settle General = 0\n",
      "Settle Margin  = 0\n",
      "Settle Bond    = 0\n"
     ]
    }
   ],
   "source": [
    "for wallet in wallets:\n",
    "    general, margin, bond = vega.party_account(wallet_name=wallet.name, asset_id=tdai_id, market_id=market_id)\n",
    "    print(wallet.name + \" General = \"+str(general))\n",
    "    print(wallet.name + \" Margin  = \"+str(margin))\n",
    "    print(wallet.name + \" Bond    = \"+str(bond))"
   ]
  },
  {
   "cell_type": "code",
   "execution_count": 19,
   "id": "51011528",
   "metadata": {},
   "outputs": [
    {
     "name": "stdout",
     "output_type": "stream",
     "text": [
      "number of ask ticks 250\n",
      "number of bid ticks 250\n"
     ]
    }
   ],
   "source": [
    "from math import ceil, floor\n",
    "\n",
    "percent_bound = 0.02\n",
    "best_ask = price + delta_plus\n",
    "num_ask_ticks = ceil(((1+percent_bound)*price-best_ask) / tick)\n",
    "print(\"number of ask ticks \"+str(num_ask_ticks))\n",
    "\n",
    "best_bid = price - delta_minus\n",
    "num_bid_ticks = ceil((best_bid-(1-percent_bound)*price )/tick)\n",
    "print(\"number of bid ticks \"+str(num_bid_ticks))\n",
    "\n",
    "vega.submit_simple_liquidity(\n",
    "    wallet_name=MM_WALLET.name,\n",
    "    market_id=market_id,\n",
    "    commitment_amount=60000,\n",
    "    fee=0.05,\n",
    "    reference_buy=\"PEGGED_REFERENCE_BEST_BID\",\n",
    "    reference_sell=\"PEGGED_REFERENCE_BEST_ASK\",\n",
    "    delta_buy=(num_bid_ticks+1)*tick,\n",
    "    delta_sell=(num_ask_ticks+1)*tick,\n",
    "    is_amendment=True,\n",
    ")\n",
    "\n"
   ]
  },
  {
   "cell_type": "code",
   "execution_count": 20,
   "id": "27835fd5",
   "metadata": {},
   "outputs": [
    {
     "name": "stdout",
     "output_type": "stream",
     "text": [
      "ask prices / volumes\n",
      "[1505.0, 1530.1, 0, 0, 0, 0, 0, 0, 0, 0, 0, 0, 0, 0, 0, 0, 0, 0, 0, 0]\n",
      "[1.0, 126.33, 0, 0, 0, 0, 0, 0, 0, 0, 0, 0, 0, 0, 0, 0, 0, 0, 0, 0]\n",
      "bid prices / volumes\n",
      "[1495.0, 1469.9, 0, 0, 0, 0, 0, 0, 0, 0, 0, 0, 0, 0, 0, 0, 0, 0, 0, 0]\n",
      "[1.0, 131.73, 0, 0, 0, 0, 0, 0, 0, 0, 0, 0, 0, 0, 0, 0, 0, 0, 0, 0]\n",
      "mm General = 99927574.20409\n",
      "mm Margin  = 12425.79591\n",
      "mm Bond    = 60000.0\n",
      "T1 General = 999901.24344\n",
      "T1 Margin  = 98.75656\n",
      "T1 Bond    = 0\n",
      "T2 General = 999896.41266\n",
      "T2 Margin  = 103.58734\n",
      "T2 Bond    = 0\n",
      "Settle General = 0\n",
      "Settle Margin  = 0\n",
      "Settle Bond    = 0\n"
     ]
    }
   ],
   "source": [
    "vega.wait_for_total_catchup()\n",
    "num_levels = 20\n",
    "book_state = vega.market_depth(\n",
    "            market_id, num_levels=num_levels\n",
    "        )\n",
    "bid_prices=[level.price for level in book_state.buys] + [0] * max(0, num_levels - len(book_state.buys))\n",
    "ask_prices=[level.price for level in book_state.sells] + [0] * max(0, num_levels - len(book_state.sells))\n",
    "bid_volumes=[level.volume for level in book_state.buys] + [0] * max(0, num_levels - len(book_state.buys))\n",
    "ask_volumes=[level.volume for level in book_state.sells] + [0] * max(0, num_levels - len(book_state.sells))\n",
    "\n",
    "print(\"ask prices / volumes\")\n",
    "print(ask_prices)\n",
    "print(ask_volumes)\n",
    "\n",
    "print(\"bid prices / volumes\")\n",
    "print(bid_prices)\n",
    "print(bid_volumes)\n",
    "\n",
    "\n",
    "\n",
    "for wallet in wallets:\n",
    "    general, margin, bond = vega.party_account(wallet_name=wallet.name, asset_id=tdai_id, market_id=market_id)\n",
    "    print(wallet.name + \" General = \"+str(general))\n",
    "    print(wallet.name + \" Margin  = \"+str(margin))\n",
    "    print(wallet.name + \" Bond    = \"+str(bond))\n",
    "\n",
    "    # positions = vega.positions_by_market(wallet_name=wallet.name, market_id=market_id)\n",
    "    # print(positions)\n"
   ]
  },
  {
   "cell_type": "code",
   "execution_count": 21,
   "id": "b13ffd49",
   "metadata": {},
   "outputs": [
    {
     "name": "stdout",
     "output_type": "stream",
     "text": [
      "notional remaining -3950.5999999999985\n",
      "notional remaining -49227.5\n"
     ]
    }
   ],
   "source": [
    "# Now I want 1 mil of notional orders within say 2% on each side\n",
    "\n",
    "start_vol=1\n",
    "vol_step=1 \n",
    "notional_remaining = 1e6 \n",
    "while notional_remaining >= 0:\n",
    "    for i in range(0,num_ask_ticks):\n",
    "        vega.submit_order(\n",
    "            trading_wallet=MM_WALLET.name,\n",
    "            market_id=market_id,\n",
    "            order_type=\"TYPE_LIMIT\",\n",
    "            time_in_force=\"TIME_IN_FORCE_GTC\",\n",
    "            side=\"SIDE_SELL\",\n",
    "            volume=vol_step*i,\n",
    "            price=price+delta_plus+i*tick,\n",
    "            wait=False,\n",
    "        )\n",
    "        notional_remaining = notional_remaining - (price+delta_plus+i*tick)*vol_step*i\n",
    "        if notional_remaining <= 0:\n",
    "            break \n",
    "    print(\"notional remaining \" + str(notional_remaining))\n",
    "\n",
    "notional_remaining = 1e6 \n",
    "while notional_remaining >= 0:\n",
    "    for i in range(0,num_ask_ticks):\n",
    "        vega.submit_order(\n",
    "            trading_wallet=MM_WALLET.name,\n",
    "            market_id=market_id,\n",
    "            order_type=\"TYPE_LIMIT\",\n",
    "            time_in_force=\"TIME_IN_FORCE_GTC\",\n",
    "            side=\"SIDE_BUY\",\n",
    "            volume=vol_step*i,\n",
    "            price=price-delta_minus-i*tick,\n",
    "            wait=False,\n",
    "        )\n",
    "        notional_remaining = notional_remaining - (price-delta_minus-i*tick)*vol_step*i\n",
    "        if notional_remaining <= 0:\n",
    "            break \n",
    "    print(\"notional remaining \" + str(notional_remaining))"
   ]
  },
  {
   "cell_type": "code",
   "execution_count": 22,
   "id": "384a08da",
   "metadata": {},
   "outputs": [
    {
     "name": "stdout",
     "output_type": "stream",
     "text": [
      "ask prices / volumes\n",
      "[1505.0, 1505.1, 1505.2, 1505.3, 1505.4, 1505.5, 1505.6, 1505.7, 1505.8, 1505.9, 1506.0, 1506.1, 1506.2, 1506.3, 1506.4, 1506.5, 1506.6, 1506.7, 1506.8, 1506.9]\n",
      "[1.0, 1.0, 2.0, 3.0, 4.0, 5.0, 6.0, 7.0, 8.0, 9.0, 10.0, 11.0, 12.0, 13.0, 14.0, 15.0, 16.0, 17.0, 18.0, 19.0]\n",
      "bid prices / volumes\n",
      "[1495.0, 1494.9, 1494.8, 1494.7, 1494.6, 1494.5, 1494.4, 1494.3, 1494.2, 1494.1, 1494.0, 1493.9, 1493.8, 1493.7, 1493.6, 1493.5, 1493.4, 1493.3, 1493.2, 1493.1]\n",
      "[1.0, 1.0, 2.0, 3.0, 4.0, 5.0, 6.0, 7.0, 8.0, 9.0, 10.0, 11.0, 12.0, 13.0, 14.0, 15.0, 16.0, 17.0, 18.0, 19.0]\n"
     ]
    }
   ],
   "source": [
    "num_levels = 20\n",
    "book_state = vega.market_depth(\n",
    "            market_id, num_levels=num_levels\n",
    "        )\n",
    "bid_prices=[level.price for level in book_state.buys] + [0] * max(0, num_levels - len(book_state.buys))\n",
    "ask_prices=[level.price for level in book_state.sells] + [0] * max(0, num_levels - len(book_state.sells))\n",
    "bid_volumes=[level.volume for level in book_state.buys] + [0] * max(0, num_levels - len(book_state.buys))\n",
    "ask_volumes=[level.volume for level in book_state.sells] + [0] * max(0, num_levels - len(book_state.sells))\n",
    "\n",
    "print(\"ask prices / volumes\")\n",
    "print(ask_prices)\n",
    "print(ask_volumes)\n",
    "\n",
    "print(\"bid prices / volumes\")\n",
    "print(bid_prices)\n",
    "print(bid_volumes)\n"
   ]
  },
  {
   "cell_type": "code",
   "execution_count": 23,
   "id": "53711fd6",
   "metadata": {},
   "outputs": [
    {
     "name": "stdout",
     "output_type": "stream",
     "text": [
      "mm General = 99874699.3835\n",
      "mm Margin  = 65300.6165\n",
      "mm Bond    = 60000.0\n",
      "T1 General = 999901.24344\n",
      "T1 Margin  = 98.75656\n",
      "T1 Bond    = 0\n",
      "T2 General = 999896.41266\n",
      "T2 Margin  = 103.58734\n",
      "T2 Bond    = 0\n",
      "Settle General = 0\n",
      "Settle Margin  = 0\n",
      "Settle Bond    = 0\n"
     ]
    }
   ],
   "source": [
    "vega.wait_for_total_catchup()\n",
    "\n",
    "for wallet in wallets:\n",
    "    general, margin, bond = vega.party_account(wallet_name=wallet.name, asset_id=tdai_id, market_id=market_id)\n",
    "    print(wallet.name + \" General = \"+str(general))\n",
    "    print(wallet.name + \" Margin  = \"+str(margin))\n",
    "    print(wallet.name + \" Bond    = \"+str(bond))\n",
    "\n",
    "    # positions = vega.positions_by_market(wallet_name=wallet.name, market_id=market_id)\n",
    "    # print(positions)\n"
   ]
  },
  {
   "cell_type": "code",
   "execution_count": 64,
   "id": "73c6a4e4-a13d-4fd9-9c51-3091571db2e0",
   "metadata": {},
   "outputs": [],
   "source": [
    "vega.settle_market(settlement_wallet = TERMINATE_WALLET.name, settlement_price = price, market_id=market_id)"
   ]
  },
  {
   "cell_type": "code",
   "execution_count": 1,
   "id": "3a1f559d",
   "metadata": {},
   "outputs": [
    {
     "ename": "NameError",
     "evalue": "name 'vega' is not defined",
     "output_type": "error",
     "traceback": [
      "\u001b[0;31m---------------------------------------------------------------------------\u001b[0m",
      "\u001b[0;31mNameError\u001b[0m                                 Traceback (most recent call last)",
      "Cell \u001b[0;32mIn [1], line 1\u001b[0m\n\u001b[0;32m----> 1\u001b[0m \u001b[43mvega\u001b[49m\u001b[38;5;241m.\u001b[39mstop()\n",
      "\u001b[0;31mNameError\u001b[0m: name 'vega' is not defined"
     ]
    }
   ],
   "source": [
    "vega.stop()"
   ]
  },
  {
   "cell_type": "code",
   "execution_count": null,
   "id": "6045513e",
   "metadata": {},
   "outputs": [],
   "source": []
  }
 ],
 "metadata": {
  "kernelspec": {
   "display_name": "Python 3.10.6 ('vega-sim-L42lfpJQ-py3.10')",
   "language": "python",
   "name": "python3"
  },
  "language_info": {
   "codemirror_mode": {
    "name": "ipython",
    "version": 3
   },
   "file_extension": ".py",
   "mimetype": "text/x-python",
   "name": "python",
   "nbconvert_exporter": "python",
   "pygments_lexer": "ipython3",
   "version": "3.10.6"
  },
  "vscode": {
   "interpreter": {
    "hash": "2e518b7846291cdaf77923394a5b8c0cc03af30d1bfb49888f9d92306242395f"
   }
  }
 },
 "nbformat": 4,
 "nbformat_minor": 5
}
