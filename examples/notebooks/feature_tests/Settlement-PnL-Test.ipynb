{
 "cells": [
  {
   "cell_type": "code",
   "execution_count": 48,
   "metadata": {},
   "outputs": [],
   "source": [
    "from collections import namedtuple\n",
    "\n",
    "from vega_sim.null_service import VegaServiceNull\n",
    "import vega_sim.proto.vega as vega_protos"
   ]
  },
  {
   "cell_type": "code",
   "execution_count": 49,
   "metadata": {},
   "outputs": [],
   "source": [
    "WalletConfig = namedtuple(\"WalletConfig\", [\"name\", \"passphrase\"])\n",
    "\n",
    "MM_WALLET = WalletConfig(\"mm\", \"mm\")\n",
    "\n",
    "TRADER_1_WALLET = WalletConfig(\"T1\", \"pin\")\n",
    "\n",
    "TRADER_2_WALLET = WalletConfig(\"T2\", \"pin\")\n",
    "\n",
    "TRADER_A1_WALLET = WalletConfig(\"A1\", \"pin\")\n",
    "\n",
    "TRADER_A2_WALLET = WalletConfig(\"A2\", \"pin\")\n",
    "\n",
    "TERMINATE_WALLET = WalletConfig(\"Settle\", \"pin\")\n",
    "\n",
    "wallets = [MM_WALLET, TRADER_1_WALLET, TRADER_2_WALLET, TRADER_A1_WALLET, TRADER_A2_WALLET, TERMINATE_WALLET]"
   ]
  },
  {
   "cell_type": "code",
   "execution_count": 50,
   "metadata": {},
   "outputs": [
    {
     "name": "stderr",
     "output_type": "stream",
     "text": [
      "INFO:vega_sim.null_service:Running NullChain from vegahome of /var/folders/t8/z7v3pdr57d1_rrxyb2skvdtm0000gn/T/vega-sim-m1xcn82w\n",
      "INFO:vega_sim.null_service:Launching GraphQL node at port 56540\n",
      "INFO:vega_sim.null_service:Launching Console at port 56546\n"
     ]
    }
   ],
   "source": [
    "vega = VegaServiceNull(run_with_console=True, use_full_vega_wallet=False)\n",
    "vega.start()"
   ]
  },
  {
   "cell_type": "code",
   "execution_count": null,
   "metadata": {},
   "outputs": [],
   "source": [
    "for wallet in wallets:\n",
    "    vega.create_wallet(wallet.name, passphrase=wallet.passphrase)\n",
    "vega.forward('10s')"
   ]
  },
  {
   "cell_type": "code",
   "execution_count": null,
   "metadata": {},
   "outputs": [],
   "source": [
    "vega.mint(\n",
    "    MM_WALLET.name,\n",
    "    asset=\"VOTE\",\n",
    "    amount=10000,\n",
    ")\n",
    "\n",
    "vega.forward(\"20s\")\n",
    "vega.create_asset(\n",
    "    MM_WALLET.name,\n",
    "    name=\"tDAI\",\n",
    "    symbol=\"tDAI\",\n",
    "    decimals=5,\n",
    "    max_faucet_amount=10e15,  # is this including decimals or not?\n",
    ")\n",
    "\n",
    "tdai_id = vega.find_asset_id(symbol=\"tDAI\")\n",
    "\n",
    "vega.mint(\n",
    "    MM_WALLET.name,\n",
    "    tdai_id,\n",
    "    amount=10e7\n",
    ")\n",
    "vega.mint(\n",
    "    TRADER_1_WALLET.name,\n",
    "    tdai_id,\n",
    "    amount=10e5\n",
    ")\n",
    "vega.mint(\n",
    "    TRADER_2_WALLET.name,\n",
    "    tdai_id,\n",
    "    amount=10e5\n",
    ")\n",
    "vega.mint(\n",
    "    TRADER_A1_WALLET.name,\n",
    "    tdai_id,\n",
    "    amount=10e5\n",
    ")\n",
    "vega.mint(\n",
    "    TRADER_A2_WALLET.name,\n",
    "    tdai_id,\n",
    "    amount=10e5\n",
    ")\n",
    "vega.wait_for_total_catchup()"
   ]
  },
  {
   "cell_type": "code",
   "execution_count": null,
   "metadata": {},
   "outputs": [
    {
     "name": "stderr",
     "output_type": "stream",
     "text": [
      "Using function with raw data from data-node VegaService.all_markets. Be wary if prices/positions are not converted from int form\n"
     ]
    }
   ],
   "source": [
    "# Create a market\n",
    "vega.create_simple_market(\n",
    "        market_name=\"BTC:DAI_Mar22\",\n",
    "        proposal_wallet=MM_WALLET.name,\n",
    "        settlement_asset_id=tdai_id,\n",
    "        termination_wallet=TERMINATE_WALLET.name,\n",
    "        position_decimals=2,\n",
    "        market_decimals=3,\n",
    ")\n",
    "\n",
    "market_id = vega.all_markets()[0].id\n",
    "\n",
    "vega.submit_simple_liquidity(\n",
    "    wallet_name=MM_WALLET.name,\n",
    "    market_id=market_id,\n",
    "    commitment_amount=600,\n",
    "    fee=0.05,\n",
    "    reference_buy=\"PEGGED_REFERENCE_BEST_BID\",\n",
    "    reference_sell=\"PEGGED_REFERENCE_BEST_ASK\",\n",
    "    delta_buy=20,\n",
    "    delta_sell=20,\n",
    "    is_amendment=False,\n",
    ")"
   ]
  },
  {
   "cell_type": "code",
   "execution_count": null,
   "metadata": {},
   "outputs": [],
   "source": [
    "# Make market pass opening auction\n",
    "vega.submit_order(\n",
    "    trading_wallet=TRADER_A1_WALLET.name,\n",
    "    market_id=market_id,\n",
    "    order_type=\"TYPE_LIMIT\",\n",
    "    time_in_force=\"TIME_IN_FORCE_GTC\",\n",
    "    side=\"SIDE_BUY\",\n",
    "    volume=1,\n",
    "    price=900,\n",
    "    wait=True,\n",
    ")\n",
    "vega.submit_order(\n",
    "    trading_wallet=TRADER_A1_WALLET.name,\n",
    "    market_id=market_id,\n",
    "    order_type=\"TYPE_LIMIT\",\n",
    "    time_in_force=\"TIME_IN_FORCE_GTC\",\n",
    "    side=\"SIDE_BUY\",\n",
    "    volume=1,\n",
    "    price=990,\n",
    "    wait=True,\n",
    ")\n",
    "\n",
    "# Post limit order\n",
    "buy_order_id = vega.submit_order(\n",
    "    trading_wallet=TRADER_A2_WALLET.name,\n",
    "    market_id=market_id,\n",
    "    order_type=\"TYPE_LIMIT\",\n",
    "    time_in_force=\"TIME_IN_FORCE_GTC\",\n",
    "    side=\"SIDE_SELL\",\n",
    "    volume=1,\n",
    "    price=1010,\n",
    "    wait=True,\n",
    ")\n",
    "\n",
    "sell_order_id = vega.submit_order(\n",
    "    trading_wallet=TRADER_A2_WALLET.name,\n",
    "    market_id=market_id,\n",
    "    order_type=\"TYPE_LIMIT\",\n",
    "    time_in_force=\"TIME_IN_FORCE_GTC\",\n",
    "    side=\"SIDE_SELL\",\n",
    "    volume=1,\n",
    "    price=1100,\n",
    "    wait=True,\n",
    ")\n",
    "\n",
    "# Post limit order\n",
    "buy_order_id = vega.submit_order(\n",
    "    trading_wallet=TRADER_1_WALLET.name,\n",
    "    market_id=market_id,\n",
    "    order_type=\"TYPE_LIMIT\",\n",
    "    time_in_force=\"TIME_IN_FORCE_GTC\",\n",
    "    side=\"SIDE_BUY\",\n",
    "    volume=50,\n",
    "    price=1000,\n",
    "    wait=True,\n",
    ")\n",
    "\n",
    "sell_order_id = vega.submit_order(\n",
    "    trading_wallet=TRADER_2_WALLET.name,\n",
    "    market_id=market_id,\n",
    "    order_type=\"TYPE_LIMIT\",\n",
    "    time_in_force=\"TIME_IN_FORCE_GTC\",\n",
    "    side=\"SIDE_SELL\",\n",
    "    volume=50,\n",
    "    price=1000,\n",
    "    wait=True,\n",
    ")"
   ]
  },
  {
   "cell_type": "code",
   "execution_count": null,
   "metadata": {},
   "outputs": [
    {
     "name": "stdout",
     "output_type": "stream",
     "text": [
      "Margin level of Trader 1 (price=1000): \n",
      " [MarginLevels(maintenance_margin=5153.1421, search_level=5668.4563, initial_margin=6183.77052, collateral_release_level=13398.16946, party_id='6b5db0d68705c364918bb554bb6c0b432fac90f05b8fc1e2eb677746f9cf9b62', market_id='824aa9591e8ad3867091f3ca74f43e33cde61358a59db5c10e1e8cddb2731b19', asset='30650e540f238e051192ec078fd26bb0f0582544343763c9056c6b92f6c2adf4', timestamp=1638185350259066000)]\n",
      "Margin account:  6183.77052\n"
     ]
    }
   ],
   "source": [
    "print(\"Margin level of Trader 1 (price=1000):\", \"\\n\", vega.margin_levels(wallet_name=TRADER_1_WALLET.name, market_id=market_id))\n",
    "general, margin, bond = vega.party_account(wallet_name=TRADER_1_WALLET.name, asset_id=tdai_id, market_id=market_id)\n",
    "print(\"Margin account: \", margin)"
   ]
  },
  {
   "cell_type": "code",
   "execution_count": null,
   "metadata": {},
   "outputs": [],
   "source": [
    "# settle market when trader_1 only has open long positions, trader_2 only has open short positions, \n",
    "vega.settle_market(\n",
    "    TERMINATE_WALLET.name,\n",
    "    settlement_price = 800,\n",
    "    market_id = market_id,\n",
    ")\n",
    "vega.wait_for_total_catchup()"
   ]
  },
  {
   "cell_type": "code",
   "execution_count": null,
   "metadata": {},
   "outputs": [],
   "source": [
    "position = vega.positions_by_market(\n",
    "        wallet_name=TRADER_1_WALLET.name, market_id = market_id\n",
    "    )"
   ]
  },
  {
   "cell_type": "code",
   "execution_count": null,
   "metadata": {},
   "outputs": [
    {
     "name": "stdout",
     "output_type": "stream",
     "text": [
      "Margin level of Trader 1 (price=55): \n",
      " [MarginLevels(maintenance_margin=5153.1421, search_level=5668.4563, initial_margin=6183.77052, collateral_release_level=13398.16946, party_id='6b5db0d68705c364918bb554bb6c0b432fac90f05b8fc1e2eb677746f9cf9b62', market_id='824aa9591e8ad3867091f3ca74f43e33cde61358a59db5c10e1e8cddb2731b19', asset='30650e540f238e051192ec078fd26bb0f0582544343763c9056c6b92f6c2adf4', timestamp=1638185350259066000)]\n",
      "Margin account:  0.0\n",
      "General account:  1000000.0\n"
     ]
    },
    {
     "ename": "IndexError",
     "evalue": "list index out of range",
     "output_type": "error",
     "traceback": [
      "\u001b[0;31m---------------------------------------------------------------------------\u001b[0m",
      "\u001b[0;31mIndexError\u001b[0m                                Traceback (most recent call last)",
      "Cell \u001b[0;32mIn [46], line 5\u001b[0m\n\u001b[1;32m      3\u001b[0m \u001b[38;5;28mprint\u001b[39m(\u001b[38;5;124m\"\u001b[39m\u001b[38;5;124mMargin account: \u001b[39m\u001b[38;5;124m\"\u001b[39m, margin)\n\u001b[1;32m      4\u001b[0m \u001b[38;5;28mprint\u001b[39m(\u001b[38;5;124m\"\u001b[39m\u001b[38;5;124mGeneral account: \u001b[39m\u001b[38;5;124m\"\u001b[39m, general)\n\u001b[0;32m----> 5\u001b[0m \u001b[38;5;28mprint\u001b[39m(\u001b[38;5;124m\"\u001b[39m\u001b[38;5;124mRelisedPnL:\u001b[39m\u001b[38;5;124m\"\u001b[39m, \u001b[43mposition\u001b[49m\u001b[43m[\u001b[49m\u001b[38;5;241;43m0\u001b[39;49m\u001b[43m]\u001b[49m\u001b[38;5;241m.\u001b[39mrealised_pnl)\n\u001b[1;32m      6\u001b[0m \u001b[38;5;28mprint\u001b[39m(\u001b[38;5;124m\"\u001b[39m\u001b[38;5;124mUnelisedPnL:\u001b[39m\u001b[38;5;124m\"\u001b[39m,position[\u001b[38;5;241m0\u001b[39m]\u001b[38;5;241m.\u001b[39munrealised_pnl)\n",
      "\u001b[0;31mIndexError\u001b[0m: list index out of range"
     ]
    }
   ],
   "source": [
    "print(\"Margin level of Trader 1 (price=55):\", \"\\n\", vega.margin_levels(wallet_name=TRADER_1_WALLET.name, market_id=market_id))\n",
    "general, margin, bond = vega.party_account(wallet_name=TRADER_1_WALLET.name, asset_id=tdai_id, market_id=market_id)\n",
    "print(\"Margin account: \", margin)\n",
    "print(\"General account: \", general)\n",
    "print(\"RelisedPnL:\", position[0].realised_pnl)\n",
    "print(\"UnelisedPnL:\",position[0].unrealised_pnl)\n"
   ]
  },
  {
   "cell_type": "code",
   "execution_count": null,
   "metadata": {},
   "outputs": [],
   "source": []
  }
 ],
 "metadata": {
  "kernelspec": {
   "display_name": "Python 3.10.6 ('.venv': poetry)",
   "language": "python",
   "name": "python3"
  },
  "language_info": {
   "codemirror_mode": {
    "name": "ipython",
    "version": 3
   },
   "file_extension": ".py",
   "mimetype": "text/x-python",
   "name": "python",
   "nbconvert_exporter": "python",
   "pygments_lexer": "ipython3",
   "version": "3.10.6"
  },
  "orig_nbformat": 4,
  "vscode": {
   "interpreter": {
    "hash": "638e6e7dabd426a9696af0b39adce6775258148b2f327b6bae2f49ec494059e1"
   }
  }
 },
 "nbformat": 4,
 "nbformat_minor": 2
}
