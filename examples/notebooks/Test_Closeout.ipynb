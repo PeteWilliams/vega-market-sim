{
 "cells": [
  {
   "cell_type": "code",
   "execution_count": 52,
   "metadata": {},
   "outputs": [],
   "source": [
    "from collections import namedtuple\n",
    "\n",
    "from vega_sim.null_service import VegaServiceNull\n",
    "import vega_sim.proto.vega as vega_protos\n"
   ]
  },
  {
   "cell_type": "code",
   "execution_count": 53,
   "metadata": {},
   "outputs": [],
   "source": [
    "WalletConfig = namedtuple(\"WalletConfig\", [\"name\", \"passphrase\"])\n",
    "\n",
    "MM_WALLET = WalletConfig(\"mm\", \"mm\")\n",
    "\n",
    "TRADER_a1_WALLET = WalletConfig(\"a1\", \"pin\")\n",
    "\n",
    "TRADER_a2_WALLET = WalletConfig(\"a2\", \"pin\")\n",
    "\n",
    "TRADER_2_WALLET = WalletConfig(\"T2\", \"pin\")\n",
    "\n",
    "TRADER_3_WALLET = WalletConfig(\"T3\", \"pin\")\n",
    "\n",
    "TERMINATE_WALLET = WalletConfig(\"Settle\", \"pin\")\n",
    "\n",
    "wallets = [MM_WALLET, TRADER_2_WALLET, TRADER_3_WALLET, TRADER_a1_WALLET , TRADER_a2_WALLET, TERMINATE_WALLET]\n"
   ]
  },
  {
   "cell_type": "code",
   "execution_count": 54,
   "metadata": {},
   "outputs": [
    {
     "name": "stderr",
     "output_type": "stream",
     "text": [
      "INFO:vega_sim.null_service:Running NullChain from vegahome of /var/folders/t8/z7v3pdr57d1_rrxyb2skvdtm0000gn/T/tmp9bgaewet\n",
      "INFO:vega_sim.null_service:Launching GraphQL node at port 52245\n",
      "INFO:vega_sim.null_service:Launching Console at port 52251\n",
      "Using function with raw data from data-node VegaService.all_markets. Be wary if prices/positions are not converted from int form\n"
     ]
    }
   ],
   "source": [
    "vega = VegaServiceNull(run_with_console=False, use_full_vega_wallet=False)\n",
    "vega.start()"
   ]
  },
  {
   "cell_type": "code",
   "execution_count": 55,
   "metadata": {},
   "outputs": [],
   "source": [
    "for wallet in wallets:\n",
    "    vega.create_wallet(wallet.name, passphrase=wallet.passphrase)\n",
    "vega.forward('10s')"
   ]
  },
  {
   "cell_type": "code",
   "execution_count": 56,
   "metadata": {},
   "outputs": [],
   "source": [
    "vega.mint(\n",
    "    MM_WALLET.name,\n",
    "    asset=\"VOTE\",\n",
    "    amount=10000,\n",
    ")\n",
    "\n",
    "vega.forward(\"20s\")\n",
    "vega.create_asset(\n",
    "    MM_WALLET.name,\n",
    "    name=\"tDAI\",\n",
    "    symbol=\"tDAI\",\n",
    "    decimals=5,\n",
    "    max_faucet_amount=10e15,  # is this including decimals or not?\n",
    ")\n",
    "\n",
    "tdai_id = vega.find_asset_id(symbol=\"tDAI\")\n",
    "\n",
    "mint_amount = {MM_WALLET.name: 10e12, TRADER_a1_WALLET.name: 10e12, TRADER_a2_WALLET.name: 10e12, TRADER_2_WALLET.name: 2000, TRADER_3_WALLET.name: 90}\n",
    "\n",
    "vega.mint(\n",
    "    MM_WALLET.name,\n",
    "    tdai_id,\n",
    "    amount=mint_amount[MM_WALLET.name]\n",
    ")\n",
    "vega.mint(\n",
    "    TRADER_a1_WALLET.name,\n",
    "    tdai_id,\n",
    "    amount=mint_amount[TRADER_a1_WALLET.name]\n",
    ")\n",
    "vega.mint(\n",
    "    TRADER_a2_WALLET.name,\n",
    "    tdai_id,\n",
    "    amount=mint_amount[TRADER_a2_WALLET.name]\n",
    ")\n",
    "vega.mint(\n",
    "    TRADER_2_WALLET.name,\n",
    "    tdai_id,\n",
    "    amount=mint_amount[TRADER_2_WALLET.name]\n",
    ")\n",
    "vega.mint(\n",
    "    TRADER_3_WALLET.name,\n",
    "    tdai_id,\n",
    "    amount=mint_amount[TRADER_3_WALLET.name]\n",
    ")\n",
    "vega.wait_for_total_catchup()\n"
   ]
  },
  {
   "cell_type": "code",
   "execution_count": 57,
   "metadata": {},
   "outputs": [
    {
     "name": "stderr",
     "output_type": "stream",
     "text": [
      "Using function with raw data from data-node VegaService.all_markets. Be wary if prices/positions are not converted from int form\n"
     ]
    }
   ],
   "source": [
    "# Create a market\n",
    "vega.create_simple_market(\n",
    "        market_name=\"BTC:DAI_Mar22\",\n",
    "        proposal_wallet=MM_WALLET.name,\n",
    "        settlement_asset_id=tdai_id,\n",
    "        termination_wallet=TERMINATE_WALLET.name,\n",
    "        position_decimals=0,\n",
    "        market_decimals=0,\n",
    "        risk_aversion=0.000001,\n",
    "        tau=0.1,\n",
    "        sigma=1,\n",
    "        \n",
    ")\n",
    "\n",
    "market_id = vega.all_markets()[0].id"
   ]
  },
  {
   "cell_type": "code",
   "execution_count": 58,
   "metadata": {},
   "outputs": [],
   "source": [
    "# submit liquidity\n",
    "vega.submit_simple_liquidity(\n",
    "    wallet_name=MM_WALLET.name,\n",
    "    market_id=market_id,\n",
    "    commitment_amount=100000,\n",
    "    fee=0.001,\n",
    "    reference_buy=\"PEGGED_REFERENCE_BEST_BID\",\n",
    "    reference_sell=\"PEGGED_REFERENCE_BEST_ASK\",\n",
    "    delta_buy=55,\n",
    "    delta_sell=55,\n",
    "    is_amendment=False,\n",
    ")\n",
    "\n",
    "vega.forward('1s')\n",
    "vega.forward('1s')"
   ]
  },
  {
   "cell_type": "code",
   "execution_count": 59,
   "metadata": {},
   "outputs": [],
   "source": [
    "# Post GTC limit order\n",
    "buy_order_id = vega.submit_order(\n",
    "    trading_wallet=TRADER_a2_WALLET.name,\n",
    "    market_id=market_id,\n",
    "    order_type=\"TYPE_LIMIT\",\n",
    "    time_in_force=\"TIME_IN_FORCE_GTC\",\n",
    "    side=\"SIDE_BUY\",\n",
    "    volume=5,\n",
    "    price=5,\n",
    "    wait=True,\n",
    ")\n",
    "\n",
    "sell_order_id = vega.submit_order(\n",
    "    trading_wallet=TRADER_a1_WALLET.name,\n",
    "    market_id=market_id,\n",
    "    order_type=\"TYPE_LIMIT\",\n",
    "    time_in_force=\"TIME_IN_FORCE_GTC\",\n",
    "    side=\"SIDE_SELL\",\n",
    "    volume=10,\n",
    "    price=1000,\n",
    "    wait=True,\n",
    ")\n",
    "\n",
    "buy_order_id = vega.submit_order(\n",
    "    trading_wallet=TRADER_a2_WALLET.name,\n",
    "    market_id=market_id,\n",
    "    order_type=\"TYPE_LIMIT\",\n",
    "    time_in_force=\"TIME_IN_FORCE_GTC\",\n",
    "    side=\"SIDE_BUY\",\n",
    "    volume=10,\n",
    "    price=10,\n",
    "    wait=True,\n",
    ")\n",
    "\n",
    "sell_order_id = vega.submit_order(\n",
    "    trading_wallet=TRADER_a1_WALLET.name,\n",
    "    market_id=market_id,\n",
    "    order_type=\"TYPE_LIMIT\",\n",
    "    time_in_force=\"TIME_IN_FORCE_GTC\",\n",
    "    side=\"SIDE_SELL\",\n",
    "    volume=10,\n",
    "    price=10,\n",
    "    wait=True,\n",
    ")\n"
   ]
  },
  {
   "cell_type": "code",
   "execution_count": 63,
   "metadata": {},
   "outputs": [
    {
     "name": "stdout",
     "output_type": "stream",
     "text": [
      "mm General = 9999999515650.46\n",
      "mm Margin  = 384349.53984\n",
      "mm Bond    = 100000.0\n",
      "[MarginLevels(maintenance_margin=320291.2832, search_level=352320.41152, initial_margin=384349.53984, collateral_release_level=448407.79648, party_id='4bc6835da01db9716c54d976e698faa96e8c14131eda8bdfef9a41ff9af9f283', market_id='43994fe1d1b2b1542f009dffd84a864fd6f18677fe56510588a361cb426439a5', asset='f3c80514ca9b47a93a9fec90b8ebcbe35890898c09e2ca4120aab6a18b93392d', timestamp=1638185346259066000)]\n"
     ]
    },
    {
     "ename": "TypeError",
     "evalue": "unsupported operand type(s) for -: 'float' and 'dict'",
     "output_type": "error",
     "traceback": [
      "\u001b[0;31m---------------------------------------------------------------------------\u001b[0m",
      "\u001b[0;31mTypeError\u001b[0m                                 Traceback (most recent call last)",
      "\u001b[1;32m/Users/jiajiacui/github.com/vegaprotocol/vega-market-sim/examples/notebooks/Test_Closeout.ipynb Cell 9\u001b[0m in \u001b[0;36m<cell line: 3>\u001b[0;34m()\u001b[0m\n\u001b[1;32m      <a href='vscode-notebook-cell:/Users/jiajiacui/github.com/vegaprotocol/vega-market-sim/examples/notebooks/Test_Closeout.ipynb#X11sZmlsZQ%3D%3D?line=6'>7</a>\u001b[0m     \u001b[39mprint\u001b[39m(wallet\u001b[39m.\u001b[39mname \u001b[39m+\u001b[39m \u001b[39m\"\u001b[39m\u001b[39m Bond    = \u001b[39m\u001b[39m\"\u001b[39m\u001b[39m+\u001b[39m\u001b[39mstr\u001b[39m(bond))\n\u001b[1;32m      <a href='vscode-notebook-cell:/Users/jiajiacui/github.com/vegaprotocol/vega-market-sim/examples/notebooks/Test_Closeout.ipynb#X11sZmlsZQ%3D%3D?line=7'>8</a>\u001b[0m     \u001b[39mprint\u001b[39m(vega\u001b[39m.\u001b[39mmargin_levels(wallet\u001b[39m.\u001b[39mname))\n\u001b[0;32m----> <a href='vscode-notebook-cell:/Users/jiajiacui/github.com/vegaprotocol/vega-market-sim/examples/notebooks/Test_Closeout.ipynb#X11sZmlsZQ%3D%3D?line=8'>9</a>\u001b[0m     \u001b[39mprint\u001b[39m(general\u001b[39m+\u001b[39;49mmargin\u001b[39m+\u001b[39;49mbond \u001b[39m-\u001b[39;49m mint_amount)\n\u001b[1;32m     <a href='vscode-notebook-cell:/Users/jiajiacui/github.com/vegaprotocol/vega-market-sim/examples/notebooks/Test_Closeout.ipynb#X11sZmlsZQ%3D%3D?line=9'>10</a>\u001b[0m     \u001b[39mprint\u001b[39m(vega\u001b[39m.\u001b[39morder_status(order_id\u001b[39m=\u001b[39mbuy_order_id))\n\u001b[1;32m     <a href='vscode-notebook-cell:/Users/jiajiacui/github.com/vegaprotocol/vega-market-sim/examples/notebooks/Test_Closeout.ipynb#X11sZmlsZQ%3D%3D?line=11'>12</a>\u001b[0m \u001b[39mprint\u001b[39m(vega\u001b[39m.\u001b[39mmarket_data(market_id\u001b[39m=\u001b[39mmarket_id))\n",
      "\u001b[0;31mTypeError\u001b[0m: unsupported operand type(s) for -: 'float' and 'dict'"
     ]
    }
   ],
   "source": [
    "# Check order status/ market state\n",
    "\n",
    "for wallet in wallets:\n",
    "    general, margin, bond = vega.party_account(wallet_name=wallet.name, asset_id=tdai_id, market_id=market_id)\n",
    "    print(wallet.name + \" General = \"+str(general))\n",
    "    print(wallet.name + \" Margin  = \"+str(margin))\n",
    "    print(wallet.name + \" Bond    = \"+str(bond))\n",
    "    print(vega.margin_levels(wallet.name))\n",
    "    print(general+margin+bond - mint_amount)\n",
    "    print(vega.order_status(order_id=buy_order_id))\n",
    "\n",
    "print(vega.market_data(market_id=market_id))"
   ]
  },
  {
   "cell_type": "code",
   "execution_count": null,
   "metadata": {},
   "outputs": [
    {
     "name": "stdout",
     "output_type": "stream",
     "text": [
      "mm General = 9999999891463.432\n",
      "mm Margin  = 8536.56862\n",
      "mm Bond    = 0.0\n",
      "T2 General = 1615.65046\n",
      "T2 Margin  = 384.34954\n",
      "T2 Bond    = 0\n",
      "T3 General = 90.0\n",
      "T3 Margin  = 0\n",
      "T3 Bond    = 0\n",
      "a1 General = 9999999987266.344\n",
      "a1 Margin  = 12733.65686\n",
      "a1 Bond    = 0\n",
      "a2 General = 9999999999795.87\n",
      "a2 Margin  = 204.13108\n",
      "a2 Bond    = 0\n",
      "Settle General = 0\n",
      "Settle Margin  = 0\n",
      "Settle Bond    = 0\n"
     ]
    }
   ],
   "source": [
    "buy_order_id = vega.submit_order(\n",
    "    trading_wallet=TRADER_2_WALLET.name,\n",
    "    market_id=market_id,\n",
    "    order_type=\"TYPE_LIMIT\",\n",
    "    time_in_force=\"TIME_IN_FORCE_GTC\",\n",
    "    side=\"SIDE_BUY\",\n",
    "    volume=40,\n",
    "    price=50,\n",
    "    wait=True,\n",
    ")\n",
    "for wallet in wallets:\n",
    "    general, margin, bond = vega.party_account(wallet_name=wallet.name, asset_id=tdai_id, market_id=market_id)\n",
    "    print(wallet.name + \" General = \"+str(general))\n",
    "    print(wallet.name + \" Margin  = \"+str(margin))\n",
    "    print(wallet.name + \" Bond    = \"+str(bond))"
   ]
  },
  {
   "cell_type": "code",
   "execution_count": null,
   "metadata": {},
   "outputs": [
    {
     "ename": "NameError",
     "evalue": "name 'TRADER_1_WALLET' is not defined",
     "output_type": "error",
     "traceback": [
      "\u001b[0;31m---------------------------------------------------------------------------\u001b[0m",
      "\u001b[0;31mNameError\u001b[0m                                 Traceback (most recent call last)",
      "\u001b[1;32m/Users/jiajiacui/github.com/vegaprotocol/vega-market-sim/examples/notebooks/Test_Closeout.ipynb Cell 11\u001b[0m in \u001b[0;36m<cell line: 2>\u001b[0;34m()\u001b[0m\n\u001b[1;32m      <a href='vscode-notebook-cell:/Users/jiajiacui/github.com/vegaprotocol/vega-market-sim/examples/notebooks/Test_Closeout.ipynb#X12sZmlsZQ%3D%3D?line=0'>1</a>\u001b[0m \u001b[39m# Amend order\u001b[39;00m\n\u001b[1;32m      <a href='vscode-notebook-cell:/Users/jiajiacui/github.com/vegaprotocol/vega-market-sim/examples/notebooks/Test_Closeout.ipynb#X12sZmlsZQ%3D%3D?line=1'>2</a>\u001b[0m vega\u001b[39m.\u001b[39mamend_order(\n\u001b[0;32m----> <a href='vscode-notebook-cell:/Users/jiajiacui/github.com/vegaprotocol/vega-market-sim/examples/notebooks/Test_Closeout.ipynb#X12sZmlsZQ%3D%3D?line=2'>3</a>\u001b[0m     trading_wallet\u001b[39m=\u001b[39mTRADER_1_WALLET\u001b[39m.\u001b[39mname,\n\u001b[1;32m      <a href='vscode-notebook-cell:/Users/jiajiacui/github.com/vegaprotocol/vega-market-sim/examples/notebooks/Test_Closeout.ipynb#X12sZmlsZQ%3D%3D?line=3'>4</a>\u001b[0m     market_id\u001b[39m=\u001b[39mmarket_id,\n\u001b[1;32m      <a href='vscode-notebook-cell:/Users/jiajiacui/github.com/vegaprotocol/vega-market-sim/examples/notebooks/Test_Closeout.ipynb#X12sZmlsZQ%3D%3D?line=4'>5</a>\u001b[0m     order_id\u001b[39m=\u001b[39mbuy_order_id,\n\u001b[1;32m      <a href='vscode-notebook-cell:/Users/jiajiacui/github.com/vegaprotocol/vega-market-sim/examples/notebooks/Test_Closeout.ipynb#X12sZmlsZQ%3D%3D?line=5'>6</a>\u001b[0m     price\u001b[39m=\u001b[39m\u001b[39m75\u001b[39m,\n\u001b[1;32m      <a href='vscode-notebook-cell:/Users/jiajiacui/github.com/vegaprotocol/vega-market-sim/examples/notebooks/Test_Closeout.ipynb#X12sZmlsZQ%3D%3D?line=6'>7</a>\u001b[0m     volume_delta\u001b[39m=\u001b[39m\u001b[39m2\u001b[39m,\n\u001b[1;32m      <a href='vscode-notebook-cell:/Users/jiajiacui/github.com/vegaprotocol/vega-market-sim/examples/notebooks/Test_Closeout.ipynb#X12sZmlsZQ%3D%3D?line=7'>8</a>\u001b[0m )\n",
      "\u001b[0;31mNameError\u001b[0m: name 'TRADER_1_WALLET' is not defined"
     ]
    }
   ],
   "source": [
    "# Amend order\n",
    "vega.amend_order(\n",
    "    trading_wallet=TRADER_1_WALLET.name,\n",
    "    market_id=market_id,\n",
    "    order_id=buy_order_id,\n",
    "    price=75,\n",
    "    volume_delta=2,\n",
    ")\n",
    "\n"
   ]
  },
  {
   "cell_type": "code",
   "execution_count": null,
   "metadata": {},
   "outputs": [],
   "source": [
    "\n"
   ]
  },
  {
   "cell_type": "code",
   "execution_count": null,
   "metadata": {},
   "outputs": [],
   "source": [
    "# Check order status/ market state after amend\n",
    "print(vega.order_status(order_id=buy_order_id))\n",
    "\n",
    "print(vega.market_data(market_id=market_id))"
   ]
  }
 ],
 "metadata": {
  "kernelspec": {
   "display_name": "Python 3.10.4 ('sim')",
   "language": "python",
   "name": "python3"
  },
  "language_info": {
   "codemirror_mode": {
    "name": "ipython",
    "version": 3
   },
   "file_extension": ".py",
   "mimetype": "text/x-python",
   "name": "python",
   "nbconvert_exporter": "python",
   "pygments_lexer": "ipython3",
   "version": "3.10.4"
  },
  "orig_nbformat": 4,
  "vscode": {
   "interpreter": {
    "hash": "5c00165305f273872415b0603efc45e61452b0a3e0b82b69bfe746be71fa6f99"
   }
  }
 },
 "nbformat": 4,
 "nbformat_minor": 2
}
