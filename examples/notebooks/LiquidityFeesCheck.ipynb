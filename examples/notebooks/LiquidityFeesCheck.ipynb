{
 "cells": [
  {
   "cell_type": "code",
   "execution_count": 1,
   "id": "4eb2bebd-77d2-42bd-b31a-51b1abd21fba",
   "metadata": {},
   "outputs": [],
   "source": [
    "%load_ext autoreload\n",
    "%autoreload 2"
   ]
  },
  {
   "cell_type": "code",
   "execution_count": 2,
   "id": "93778ab8-58fb-4d3a-b5d5-6186db5d637d",
   "metadata": {},
   "outputs": [],
   "source": [
    "from collections import namedtuple\n",
    "\n",
    "from vega_sim.null_service import VegaServiceNull\n",
    "import vega_sim.proto.vega as vega_protos\n",
    "\n",
    "import numpy as np\n",
    "import time\n",
    "import datetime"
   ]
  },
  {
   "cell_type": "code",
   "execution_count": 3,
   "id": "b48d05f5-00fd-4196-a6cd-9d02bd28ff9b",
   "metadata": {},
   "outputs": [],
   "source": [
    "WalletConfig = namedtuple(\"WalletConfig\", [\"name\", \"passphrase\"])\n",
    "\n",
    "MM_WALLET = WalletConfig(\"mm\", \"mm\")\n",
    "\n",
    "TRADER_1_WALLET = WalletConfig(\"T1\", \"pin\")\n",
    "\n",
    "TRADER_2_WALLET = WalletConfig(\"T2\", \"pin\")\n",
    "\n",
    "TERMINATE_WALLET = WalletConfig(\"Settle\", \"pin\")\n",
    "\n",
    "wallets = [MM_WALLET, TRADER_1_WALLET, TRADER_2_WALLET, TERMINATE_WALLET]"
   ]
  },
  {
   "cell_type": "code",
   "execution_count": 4,
   "id": "8a55f9ef-9af4-473f-ab15-09883059e7c7",
   "metadata": {},
   "outputs": [
    {
     "name": "stderr",
     "output_type": "stream",
     "text": [
      "INFO:vega_sim.null_service:Running NullChain from vegahome of /var/folders/67/mjxp58z56yj83_1x0372gkwr0000gn/T/tmp1wyy691t\n",
      "INFO:vega_sim.null_service:Launching GraphQL node at port 52009\n",
      "INFO:vega_sim.null_service:Launching Console at port 52015\n",
      "Using function with raw data from data-node VegaService.all_markets. Be wary if prices/positions are not converted from int form\n"
     ]
    }
   ],
   "source": [
    "vega = VegaServiceNull(run_with_console=False, use_full_vega_wallet=False)\n",
    "vega.start()"
   ]
  },
  {
   "cell_type": "markdown",
   "id": "1a794af8-c9ee-49f3-a1cd-1c8ff032b31d",
   "metadata": {},
   "source": [
    "#### Create the wallets"
   ]
  },
  {
   "cell_type": "code",
   "execution_count": 5,
   "id": "6c7e104f-2bc8-465d-82c4-94102fb0b08f",
   "metadata": {},
   "outputs": [],
   "source": [
    "for wallet in wallets:\n",
    "    vega.create_wallet(wallet.name, passphrase=wallet.passphrase)\n",
    "vega.forward('10s')"
   ]
  },
  {
   "cell_type": "markdown",
   "id": "5b75a56d-6435-4795-8286-7800c97e3933",
   "metadata": {},
   "source": [
    "#### Create the asset"
   ]
  },
  {
   "cell_type": "code",
   "execution_count": 6,
   "id": "2020bd42-8a53-4527-af16-d63d1b781584",
   "metadata": {},
   "outputs": [],
   "source": [
    "vega.mint(\n",
    "    MM_WALLET.name,\n",
    "    asset=\"VOTE\",\n",
    "    amount=10000,\n",
    ")\n",
    "\n",
    "vega.forward(\"20s\")\n",
    "vega.create_asset(\n",
    "    MM_WALLET.name,\n",
    "    name=\"tDAI\",\n",
    "    symbol=\"tDAI\",\n",
    "    decimals=5,\n",
    "    max_faucet_amount=10e15,  # is this including decimals or not?\n",
    ")"
   ]
  },
  {
   "cell_type": "code",
   "execution_count": 7,
   "id": "e447d8a1",
   "metadata": {},
   "outputs": [],
   "source": [
    "vega.update_network_parameter(MM_WALLET.name, \"market.liquidity.providers.fee.distributionTimeStep\", \"60s\")\n",
    "vega.wait_for_datanode_sync()\n",
    "vega.update_network_parameter(MM_WALLET.name, \"market.fee.factors.infrastructureFee\", \"0.0\")"
   ]
  },
  {
   "cell_type": "code",
   "execution_count": 8,
   "id": "dcc18fdb-4a5a-4c90-a62f-d34ed9709c8d",
   "metadata": {},
   "outputs": [],
   "source": [
    "tdai_id = vega.find_asset_id(symbol=\"tDAI\")"
   ]
  },
  {
   "cell_type": "code",
   "execution_count": 9,
   "id": "08dce991-7fbc-485d-b6f2-2889b754c0d4",
   "metadata": {},
   "outputs": [],
   "source": [
    "vega.mint(\n",
    "    MM_WALLET.name,\n",
    "    tdai_id,\n",
    "    amount=10e7\n",
    ")\n",
    "vega.mint(\n",
    "    TRADER_1_WALLET.name,\n",
    "    tdai_id,\n",
    "    amount=10e5\n",
    ")\n",
    "vega.mint(\n",
    "    TRADER_2_WALLET.name,\n",
    "    tdai_id,\n",
    "    amount=10e5\n",
    ")\n",
    "vega.wait_for_total_catchup()"
   ]
  },
  {
   "cell_type": "code",
   "execution_count": 10,
   "id": "d05124e2",
   "metadata": {},
   "outputs": [],
   "source": [
    "market_decimals = 3 \n",
    "position_decimals = 2"
   ]
  },
  {
   "cell_type": "markdown",
   "id": "5e50c3fe-55af-4ff1-a1ef-1de2b2573ece",
   "metadata": {},
   "source": [
    "#### Create the market and set up liquidity"
   ]
  },
  {
   "cell_type": "code",
   "execution_count": 11,
   "id": "b329b75c-0e27-4b3d-b5c6-0b1a34a04894",
   "metadata": {},
   "outputs": [],
   "source": [
    "vega.create_simple_market(\n",
    "        market_name=\"BTC:DAI_Mar22\",\n",
    "        proposal_wallet=MM_WALLET.name,\n",
    "        settlement_asset_id=tdai_id,\n",
    "        termination_wallet=TERMINATE_WALLET.name,\n",
    "        position_decimals=position_decimals,\n",
    "        market_decimals=market_decimals,\n",
    "    )"
   ]
  },
  {
   "cell_type": "code",
   "execution_count": 12,
   "id": "4e6762d4-a986-492d-84fe-59b3a1a562ff",
   "metadata": {},
   "outputs": [
    {
     "name": "stderr",
     "output_type": "stream",
     "text": [
      "Using function with raw data from data-node VegaService.all_markets. Be wary if prices/positions are not converted from int form\n"
     ]
    },
    {
     "name": "stdout",
     "output_type": "stream",
     "text": [
      "Market id = 0eb503c479b1b9b6841b8a7025157cdd9750aebfb765bc0025fea1e1a02aca4b\n"
     ]
    }
   ],
   "source": [
    "market_id = vega.all_markets()[0].id\n",
    "print(\"Market id = \" + market_id)"
   ]
  },
  {
   "cell_type": "code",
   "execution_count": 13,
   "id": "a6240f32",
   "metadata": {},
   "outputs": [
    {
     "name": "stdout",
     "output_type": "stream",
     "text": [
      "cumulative sum = 102000000.0\n"
     ]
    }
   ],
   "source": [
    "cumulative_sum_after_mint = 0.0 \n",
    "for wallet in wallets:\n",
    "    general, margin, bond = vega.party_account(wallet_name=wallet.name, asset_id=tdai_id, market_id=market_id)\n",
    "    cumulative_sum_after_mint +=  general + margin + bond \n",
    "\n",
    "print(\"cumulative sum = \" + str(cumulative_sum_after_mint))\n"
   ]
  },
  {
   "cell_type": "code",
   "execution_count": 14,
   "id": "49afceef-d159-4afb-85e1-e7c47eaf3a6c",
   "metadata": {},
   "outputs": [],
   "source": [
    "MM_commintment_amount=10000\n",
    "vega.submit_liquidity(\n",
    "        MM_WALLET.name,\n",
    "        market_id=market_id,\n",
    "        commitment_amount=MM_commintment_amount,\n",
    "        fee=0.05,\n",
    "        buy_specs=[\n",
    "            (\"PEGGED_REFERENCE_MID\", 1, 1), \n",
    "            (\"PEGGED_REFERENCE_BEST_BID\", 0.4, 1)],\n",
    "        sell_specs=[\n",
    "            (\"PEGGED_REFERENCE_MID\", 1, 1),\n",
    "            (\"PEGGED_REFERENCE_BEST_ASK\", 0.4, 1),\n",
    "        ],\n",
    "        is_amendment=True,\n",
    "    )\n",
    "vega.forward('1s')\n",
    "vega.wait_for_datanode_sync()\n",
    "\n"
   ]
  },
  {
   "cell_type": "code",
   "execution_count": 15,
   "id": "2fb9cbaf-7d48-4b22-a590-749fe42b290e",
   "metadata": {},
   "outputs": [],
   "source": [
    "# Submit orders which will stay on the book and create best bid / ask \n",
    "vega.submit_order(\n",
    "    trading_wallet=MM_WALLET.name,\n",
    "    market_id=market_id,\n",
    "    order_type=\"TYPE_LIMIT\",\n",
    "    time_in_force=\"TIME_IN_FORCE_GTC\",\n",
    "    side=\"SIDE_BUY\",\n",
    "    volume=1,\n",
    "    price=96,\n",
    "    wait=False,\n",
    ")\n",
    "\n",
    "vega.submit_order(\n",
    "    trading_wallet=MM_WALLET.name,\n",
    "    market_id=market_id,\n",
    "    order_type=\"TYPE_LIMIT\",\n",
    "    time_in_force=\"TIME_IN_FORCE_GTC\",\n",
    "    side=\"SIDE_SELL\",\n",
    "    volume=1,\n",
    "    price=104,\n",
    "    wait=False,\n",
    ")\n",
    "\n"
   ]
  },
  {
   "cell_type": "markdown",
   "id": "b6378ae4-ed75-41d8-bb66-7887d32848e3",
   "metadata": {},
   "source": [
    "#### Do some trading"
   ]
  },
  {
   "cell_type": "code",
   "execution_count": 16,
   "id": "7c3a0346-4c12-4904-956e-cc87252ad2a7",
   "metadata": {},
   "outputs": [],
   "source": [
    "# Do a trade which will cross\n",
    "price = 99\n",
    "vega.submit_order(\n",
    "    trading_wallet=TRADER_1_WALLET.name,\n",
    "    market_id=market_id,\n",
    "    order_type=\"TYPE_LIMIT\",\n",
    "    time_in_force=\"TIME_IN_FORCE_GTC\",\n",
    "    side=\"SIDE_BUY\",\n",
    "    volume=1,\n",
    "    price=price,\n",
    "    wait=False,\n",
    ")\n",
    "\n",
    "vega.submit_order(\n",
    "    trading_wallet=TRADER_2_WALLET.name,\n",
    "    market_id=market_id,\n",
    "    order_type=\"TYPE_LIMIT\",\n",
    "    time_in_force=\"TIME_IN_FORCE_GTC\",\n",
    "    side=\"SIDE_SELL\",\n",
    "    volume=1,\n",
    "    price=price,\n",
    "    wait=False,\n",
    ")\n",
    "vega.forward('1s')\n",
    "\n",
    "vega.submit_order(\n",
    "    trading_wallet=TRADER_1_WALLET.name,\n",
    "    market_id=market_id,\n",
    "    order_type=\"TYPE_LIMIT\",\n",
    "    time_in_force=\"TIME_IN_FORCE_GTC\",\n",
    "    side=\"SIDE_BUY\",\n",
    "    volume=1,\n",
    "    price=price,\n",
    "    wait=False,\n",
    ")\n",
    "\n",
    "vega.submit_order(\n",
    "    trading_wallet=TRADER_2_WALLET.name,\n",
    "    market_id=market_id,\n",
    "    order_type=\"TYPE_LIMIT\",\n",
    "    time_in_force=\"TIME_IN_FORCE_GTC\",\n",
    "    side=\"SIDE_SELL\",\n",
    "    volume=1,\n",
    "    price=price,\n",
    "    wait=False,\n",
    ")\n",
    "vega.forward('1s')\n",
    "\n",
    "\n",
    "# We will now have mark price of 100 \n"
   ]
  },
  {
   "cell_type": "code",
   "execution_count": 17,
   "id": "bef9ba2a",
   "metadata": {},
   "outputs": [
    {
     "name": "stderr",
     "output_type": "stream",
     "text": [
      "Using function with raw data from data-node VegaService.market_data. Be wary if prices/positions are not converted from int form\n"
     ]
    },
    {
     "name": "stdout",
     "output_type": "stream",
     "text": [
      "Mark price is 100.5\n",
      "Market undistributed liquidity fees: 5.02503\n"
     ]
    }
   ],
   "source": [
    "vega.wait_for_datanode_sync()\n",
    "\n",
    "\n",
    "market_data = vega.market_data(market_id=market_id)\n",
    "markprice = float(market_data.mark_price) / 10**market_decimals\n",
    "print(\"Mark price is \"+str(markprice))\n",
    "\n",
    "liq_fees = vega.market_account(market_id,vega_protos.vega.ACCOUNT_TYPE_FEES_LIQUIDITY)\n",
    "print(\"Market undistributed liquidity fees: \" + str(liq_fees))"
   ]
  },
  {
   "cell_type": "code",
   "execution_count": 18,
   "id": "73c6a4e4-a13d-4fd9-9c51-3091571db2e0",
   "metadata": {},
   "outputs": [],
   "source": [
    "vega.settle_market(settlement_wallet = TERMINATE_WALLET.name, settlement_price = 95, market_id=market_id)"
   ]
  },
  {
   "cell_type": "code",
   "execution_count": 21,
   "id": "7d97b42d",
   "metadata": {},
   "outputs": [
    {
     "name": "stdout",
     "output_type": "stream",
     "text": [
      "Market undistributed liquidity fees: 5.02503\n",
      "cumulative sum = 101999994.97497\n",
      "initially minted = 102000000.0\n",
      "cumulative sum + undistributed liq fees = 102000000.0\n"
     ]
    }
   ],
   "source": [
    "vega.forward('1s')\n",
    "vega.wait_for_datanode_sync()\n",
    "\n",
    "liq_fees = vega.market_account(market_id,vega_protos.vega.ACCOUNT_TYPE_FEES_LIQUIDITY)\n",
    "\n",
    "cumulative_sum = 0.0 \n",
    "for wallet in wallets:\n",
    "    general, margin, bond = vega.party_account(wallet_name=wallet.name, asset_id=tdai_id, market_id=market_id)\n",
    "    cumulative_sum +=  general + margin + bond \n",
    "    \n",
    "print(\"Market undistributed liquidity fees: \" + str(liq_fees))\n",
    "print(\"cumulative sum = \" + str(cumulative_sum))\n",
    "print(\"initially minted = \" + str(cumulative_sum_after_mint))\n",
    "print(\"cumulative sum + undistributed liq fees = \" + str(cumulative_sum + liq_fees)) \n",
    "\n",
    "if (np.abs(liq_fees - 5.02503) > 1e-3):\n",
    "    raise Exception(\"Expected to see 5.02503 - this isn't correct but it's the bug I am expecting to demonstrate\")"
   ]
  },
  {
   "cell_type": "code",
   "execution_count": 20,
   "id": "3a1f559d",
   "metadata": {},
   "outputs": [
    {
     "name": "stdout",
     "output_type": "stream",
     "text": [
      "Check out http://localhost:52009\n",
      "Market id = 0eb503c479b1b9b6841b8a7025157cdd9750aebfb765bc0025fea1e1a02aca4b\n"
     ]
    }
   ],
   "source": [
    "print(\"Check out http://localhost:\"+str(vega.data_node_graphql_port))\n",
    "print(\"Market id = \" + market_id)\n",
    "\n",
    "#vega.stop()"
   ]
  },
  {
   "cell_type": "code",
   "execution_count": null,
   "id": "db066437",
   "metadata": {},
   "outputs": [],
   "source": []
  }
 ],
 "metadata": {
  "kernelspec": {
   "display_name": "Python 3 (ipykernel)",
   "language": "python",
   "name": "python3"
  },
  "language_info": {
   "codemirror_mode": {
    "name": "ipython",
    "version": 3
   },
   "file_extension": ".py",
   "mimetype": "text/x-python",
   "name": "python",
   "nbconvert_exporter": "python",
   "pygments_lexer": "ipython3",
   "version": "3.10.5"
  },
  "vscode": {
   "interpreter": {
    "hash": "9068ccf1de4887af20e553bb0f136ba360e9f0490ad6f851d5d4e487c8ec3e60"
   }
  }
 },
 "nbformat": 4,
 "nbformat_minor": 5
}
