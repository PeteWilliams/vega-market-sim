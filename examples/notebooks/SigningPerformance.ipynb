{
 "cells": [
  {
   "cell_type": "code",
   "execution_count": 1,
   "metadata": {},
   "outputs": [],
   "source": [
    "%load_ext autoreload\n",
    "%autoreload 2"
   ]
  },
  {
   "cell_type": "code",
   "execution_count": 236,
   "metadata": {},
   "outputs": [],
   "source": [
    "from collections import namedtuple\n",
    "\n",
    "from vega_sim.null_service import VegaServiceNull\n",
    "from __future__ import annotations\n",
    "\n",
    "import logging\n",
    "from time import time\n",
    "import requests\n",
    "import uuid\n",
    "from google.protobuf.json_format import MessageToDict\n",
    "from typing import Callable, Optional, Union\n",
    "import random\n",
    "import vega_sim.grpc.client as vac\n",
    "import vega_sim.proto.data_node.api.v1 as data_node_protos\n",
    "import vega_sim.proto.vega as vega_protos\n",
    "import vega_sim.api.faucet as faucet\n",
    "from vega_sim.api.helpers import get_enum, enum_to_str, wait_for_acceptance\n",
    "\n",
    "import vega_sim.proto.vega.api.v1.core_pb2 as core_proto\n",
    "import vega_sim.proto.vega.commands.v1.commands_pb2 as commands_proto\n",
    "import vega_sim.proto.vega.commands.v1.transaction_pb2 as transaction_proto\n",
    "import vega_sim.proto.vega.commands.v1.signature_pb2 as signature_proto\n",
    "import vega_sim.proto.vega.governance_pb2 as gov_proto\n",
    "\n",
    "from nacl.signing import SigningKey\n",
    "from nacl.encoding import HexEncoder, RawEncoder\n",
    "import nacl.hash\n",
    "import hashlib\n",
    "import numpy as np"
   ]
  },
  {
   "cell_type": "code",
   "execution_count": 36,
   "metadata": {},
   "outputs": [],
   "source": [
    "WalletConfig = namedtuple(\"WalletConfig\", [\"name\", \"passphrase\"])\n",
    "\n",
    "# Set up parties in the market/ Submit liquidity provision/ Control midprice\n",
    "MM_WALLET = WalletConfig(\"mm\", \"pin\")\n",
    "\n",
    "# The party to send selling/buying MOs to hit LP orders\n",
    "TRADER_WALLET = WalletConfig(\"Zl3pLs6Xk6SwIK7Jlp2x\", \"bJQDDVGAhKkj3PVCc7Rr\")\n",
    "\n",
    "# The party randomly post LOs at buy/sell side to simulate real Market situation\n",
    "RANDOM_WALLET = WalletConfig(\"OJpVLvU5fgLJbhNPdESa\", \"GmJTt9Gk34BHDlovB7AJ\")\n",
    "\n",
    "# The party to terminate the market and send settlment price\n",
    "TERMINATE_WALLET = WalletConfig(\"FJMKnwfZdd48C8NqvYrG\", \"bY3DxwtsCstMIIZdNpKs\")\n",
    "\n",
    "wallets = [MM_WALLET, TRADER_WALLET, RANDOM_WALLET, TERMINATE_WALLET]"
   ]
  },
  {
   "cell_type": "code",
   "execution_count": 433,
   "metadata": {},
   "outputs": [],
   "source": [
    "vega = VegaServiceNull(run_wallet_with_console=True)\n",
    "vega.start()"
   ]
  },
  {
   "cell_type": "code",
   "execution_count": 434,
   "metadata": {},
   "outputs": [],
   "source": [
    "for wallet in wallets:\n",
    "    vega.create_wallet(wallet.name, wallet.passphrase)"
   ]
  },
  {
   "cell_type": "code",
   "execution_count": 435,
   "metadata": {
    "tags": []
   },
   "outputs": [],
   "source": [
    "vega.mint(\n",
    "    MM_WALLET.name,\n",
    "    asset=\"VOTE\",\n",
    "    amount=100000,\n",
    ")\n",
    "\n",
    "vega.forward(\"10s\")\n",
    "vega.create_asset(\n",
    "    MM_WALLET.name,\n",
    "    name=\"tDAI\",\n",
    "    symbol=\"tDAI\",\n",
    "    decimals=5,\n",
    "    max_faucet_amount=1e10,\n",
    ")"
   ]
  },
  {
   "cell_type": "code",
   "execution_count": 436,
   "metadata": {},
   "outputs": [],
   "source": [
    "tdai_id = vega.find_asset_id(symbol=\"tDAI\")"
   ]
  },
  {
   "cell_type": "code",
   "execution_count": 437,
   "metadata": {
    "tags": []
   },
   "outputs": [],
   "source": [
    "\n",
    "vega.mint(\n",
    "    MM_WALLET.name,\n",
    "    tdai_id,\n",
    "    amount=1e5\n",
    ")\n",
    "vega.mint(\n",
    "    TERMINATE_WALLET.name,\n",
    "    tdai_id,\n",
    "    amount=1e2\n",
    ")\n",
    "vega.mint(\n",
    "    RANDOM_WALLET.name,\n",
    "    tdai_id,\n",
    "    amount=1e5\n",
    ")"
   ]
  },
  {
   "cell_type": "code",
   "execution_count": 438,
   "metadata": {},
   "outputs": [],
   "source": [
    "vega.create_simple_market(\n",
    "        market_name=\"BTC:DAI_Mar22\",\n",
    "        proposal_wallet=MM_WALLET.name,\n",
    "        settlement_asset_id=tdai_id,\n",
    "        termination_wallet=TERMINATE_WALLET.name,\n",
    "    )"
   ]
  },
  {
   "cell_type": "code",
   "execution_count": 439,
   "metadata": {},
   "outputs": [
    {
     "name": "stderr",
     "output_type": "stream",
     "text": [
      "Using function with raw data from data-node VegaService.all_markets. Be wary if prices/positions are not converted from int form\n"
     ]
    }
   ],
   "source": [
    "market_id = vega.all_markets()[0].id"
   ]
  },
  {
   "cell_type": "code",
   "execution_count": 440,
   "metadata": {},
   "outputs": [
    {
     "data": {
      "text/plain": [
       "'35245a4509522d49f2b805e037beb00d8d262fe92392efcc003e0a01f5e4b97c'"
      ]
     },
     "execution_count": 440,
     "metadata": {},
     "output_type": "execute_result"
    }
   ],
   "source": [
    "market_id"
   ]
  },
  {
   "cell_type": "code",
   "execution_count": 441,
   "metadata": {},
   "outputs": [],
   "source": [
    "login_token = vega.login_tokens[MM_WALLET.name]\n",
    "data_client = vega.trading_data_client()\n",
    "pub_key = vega.pub_keys[MM_WALLET.name]"
   ]
  },
  {
   "cell_type": "code",
   "execution_count": 414,
   "metadata": {},
   "outputs": [],
   "source": [
    "headers = {\"Authorization\": f\"Bearer {login_token}\"}\n",
    "\n",
    "order_ref = f\"{pub_key}-{uuid.uuid4()}\"\n",
    "\n",
    "order_data = vega_protos.commands.v1.commands.OrderSubmission(\n",
    "    market_id=market_id,\n",
    "    # price is an integer. For example 123456 is a price of 1.23456,\n",
    "    # assuming 5 decimal places.\n",
    "    price=\"15\",\n",
    "    side=vega_protos.vega.Side.SIDE_SELL,\n",
    "    size=10,\n",
    "    time_in_force=vega_protos.vega.Order.TimeInForce.TIME_IN_FORCE_GTC,\n",
    "    type=vega_protos.vega.Order.Type.TYPE_LIMIT,\n",
    "    reference=order_ref,\n",
    ")"
   ]
  },
  {
   "cell_type": "code",
   "execution_count": 387,
   "metadata": {},
   "outputs": [],
   "source": [
    "submission = {\n",
    "        \"orderSubmission\": MessageToDict(order_data),\n",
    "        \"pubKey\": pub_key,\n",
    "        \"propagate\": True,\n",
    "    }"
   ]
  },
  {
   "cell_type": "code",
   "execution_count": 388,
   "metadata": {},
   "outputs": [],
   "source": [
    "url = f\"{vega.wallet_url()}/api/v1/command/sync\""
   ]
  },
  {
   "cell_type": "code",
   "execution_count": 389,
   "metadata": {},
   "outputs": [],
   "source": [
    "enc = str(submission).encode()"
   ]
  },
  {
   "cell_type": "code",
   "execution_count": 391,
   "metadata": {},
   "outputs": [
    {
     "data": {
      "text/plain": [
       "{'txHash': '497A6B615131533149775A6E746F5741586C4F3633585A68486A36356C4F3634694F5435675A727056695635514E486C46665471787131534E593147716C3644',\n",
       " 'receivedAt': '2022-05-26T12:21:28.390103+01:00',\n",
       " 'sentAt': '2022-05-26T12:21:28.392133+01:00',\n",
       " 'txId': 'xNTdadLEDECQVdnWNjS9',\n",
       " 'tx': {'input_data': 'CNqix8bL75TKxAEQ9AXKPrUBCkBlMmU3ZDExZmZmZjNjYmVjYmFjZGJhNzJhZGQ3NzhiZjg3NzA3MWFlNmNkYjVhZWY4NGIwYWRiMTc0MDlmNzI0EgIxNRgKIAIoATgBQmU3YjUyNWU2MDJiNzQyYWVlYzkzYzJhOTgwYzFhZDNiZjAzY2QzNWYyNDAwMzk3YjhiOTFhMDQ5NjA0NjQyYjgxLWYxYjUxNDcxLTIwYzMtNGUyYS1hNjI5LTVhMGJhYThkYjQxOQ==',\n",
       "  'signature': {'value': 'd71e61a49491f40fd52c9a663ceaa967d691641da68e7adeb3ff5c63b08effe6a0d057e5b5f2fd81499f45d32afe48ce5b0341339a05b5801cfbd6dec71d4f04',\n",
       "   'algo': 'vega/ed25519',\n",
       "   'version': 1},\n",
       "  'From': {'PubKey': '7b525e602b742aeec93c2a980c1ad3bf03cd35f2400397b8b91a049604642b81'},\n",
       "  'version': 2,\n",
       "  'pow': {'tid': '5DD64B94BFB3A07F099574D95F645697B7364E05BD8E06F8D3548759A82269D4'}}}"
      ]
     },
     "execution_count": 391,
     "metadata": {},
     "output_type": "execute_result"
    }
   ],
   "source": [
    "# %%timeit\n",
    "response = requests.post(url, headers=headers, json=submission)\n",
    "response.json()"
   ]
  },
  {
   "cell_type": "code",
   "execution_count": 392,
   "metadata": {},
   "outputs": [],
   "source": [
    "sk = SigningKey.generate()"
   ]
  },
  {
   "cell_type": "code",
   "execution_count": 393,
   "metadata": {},
   "outputs": [],
   "source": [
    "pub_key = sk.verify_key.encode(encoder=HexEncoder).decode()"
   ]
  },
  {
   "cell_type": "code",
   "execution_count": 442,
   "metadata": {},
   "outputs": [],
   "source": [
    "faucet.mint(sk.verify_key.encode(encoder=HexEncoder).decode(), tdai_id, 10000, vega.faucet_url())\n",
    "faucet.mint(sk.verify_key.encode(encoder=HexEncoder).decode(), \"VOTE\", 10000, vega.faucet_url())"
   ]
  },
  {
   "cell_type": "code",
   "execution_count": 395,
   "metadata": {},
   "outputs": [],
   "source": [
    "block_height = vega.core_client().LastBlockHeight(core_proto.LastBlockHeightRequest()).height"
   ]
  },
  {
   "cell_type": "code",
   "execution_count": 396,
   "metadata": {},
   "outputs": [
    {
     "name": "stdout",
     "output_type": "stream",
     "text": [
      "80.7 µs ± 2.47 µs per loop (mean ± std. dev. of 7 runs, 10,000 loops each)\n"
     ]
    }
   ],
   "source": [
    "%%timeit\n",
    "sk.sign(enc, encoder=HexEncoder)"
   ]
  },
  {
   "cell_type": "code",
   "execution_count": 397,
   "metadata": {},
   "outputs": [],
   "source": [
    "\n",
    "def count_zeros(b):\n",
    "    ret = 0\n",
    "    for x in b:\n",
    "        if x == 0:\n",
    "            ret += 8\n",
    "        else:\n",
    "            if x % 128 != 0:\n",
    "                break\n",
    "            elif x % 64 != 0:\n",
    "                ret += 1\n",
    "                break\n",
    "            elif x % 32 != 0:\n",
    "                ret += 2\n",
    "                break\n",
    "            elif x % 16 != 0:\n",
    "                ret += 3\n",
    "                break\n",
    "            elif x % 8 != 0:\n",
    "                ret += 4\n",
    "                break\n",
    "            elif x % 4 != 0:\n",
    "                ret += 5\n",
    "                break\n",
    "            elif x % 2 != 0:\n",
    "                ret += 6\n",
    "                break\n",
    "            elif x % 1 != 0:\n",
    "                ret += 7\n",
    "                break\n",
    "            break\n",
    "    return ret"
   ]
  },
  {
   "cell_type": "code",
   "execution_count": 398,
   "metadata": {},
   "outputs": [],
   "source": [
    "nonces = [(nonce).to_bytes(2, byteorder='big') for nonce in range(0, 10000)]\n",
    "def PoW(signed_data, tx_id):\n",
    "    valid_hash = None\n",
    "    for nonce in nonces:\n",
    "        new_key = b\"Vega_SPAM_PoW\" + signed_data + tx_id + nonce\n",
    "        hashed = hashlib.sha256()\n",
    "        hashed.update(new_key)\n",
    "        hashed_dig = hashed.digest()\n",
    "        if count_zeros(hashed_dig) >= 1:\n",
    "            valid_hash = hashed_dig\n",
    "            break\n",
    "    return nonce, valid_hash"
   ]
  },
  {
   "cell_type": "code",
   "execution_count": 269,
   "metadata": {},
   "outputs": [
    {
     "name": "stdout",
     "output_type": "stream",
     "text": [
      "529 µs ± 10.1 µs per loop (mean ± std. dev. of 7 runs, 1,000 loops each)\n"
     ]
    }
   ],
   "source": [
    "%%timeit\n",
    "block_height = vega.core_client().LastBlockHeight(core_proto.LastBlockHeightRequest()).height\n",
    "signed = sk.sign(enc, encoder=HexEncoder)\n",
    "tx_id = random.getrandbits(10*8).to_bytes(10, byteorder='big')\n",
    "PoW(signed, tx_id)"
   ]
  },
  {
   "cell_type": "code",
   "execution_count": 343,
   "metadata": {},
   "outputs": [],
   "source": [
    "block_height = vega.core_client().LastBlockHeight(core_proto.LastBlockHeightRequest()).height"
   ]
  },
  {
   "cell_type": "code",
   "execution_count": 344,
   "metadata": {},
   "outputs": [
    {
     "data": {
      "text/plain": [
       "760"
      ]
     },
     "execution_count": 344,
     "metadata": {},
     "output_type": "execute_result"
    }
   ],
   "source": [
    "block_height"
   ]
  },
  {
   "cell_type": "code",
   "execution_count": 399,
   "metadata": {},
   "outputs": [],
   "source": [
    "order_data = vega_protos.commands.v1.commands.OrderSubmission(\n",
    "    market_id=market_id,\n",
    "    # price is an integer. For example 123456 is a price of 1.23456,\n",
    "    # assuming 5 decimal places.\n",
    "    price=\"10\",\n",
    "    side=vega_protos.vega.Side.SIDE_BUY,\n",
    "    size=10,\n",
    "    time_in_force=vega_protos.vega.Order.TimeInForce.TIME_IN_FORCE_GTC,\n",
    "    type=vega_protos.vega.Order.Type.TYPE_LIMIT,\n",
    ")"
   ]
  },
  {
   "cell_type": "code",
   "execution_count": 400,
   "metadata": {},
   "outputs": [
    {
     "data": {
      "text/plain": [
       "b'09a27aedcb13db9db390cc0a6d90e3d9be81b79d9dd390c5878d4bfcce2c6d7461e687047b76d513f1f656b23703c25c03589d5c5ad3db7e04578f06ba3abf047b276f726465725375626d697373696f6e273a207b276d61726b65744964273a202765383732623932306236343562643266333034373436336366313838373832306364333631366461383566623165626539623732653634336631376137346534272c20277072696365273a20273135272c202773697a65273a20273130272c202773696465273a2027534944455f53454c4c272c202774696d65496e466f726365273a202754494d455f494e5f464f5243455f475443272c202774797065273a2027545950455f4c494d4954272c20277265666572656e6365273a2027313966333938373939333631396436356232373631616238616562663861363534336538633837393633653237643461633635383232333861376634613966622d35326233653966302d346233392d343830612d626664302d356162666534663065383964277d2c20277075624b6579273a202731396633393837393933363139643635623237363161623861656266386136353433653863383739363365323764346163363538323233386137663461396662272c202770726f706167617465273a20547275657d'"
      ]
     },
     "execution_count": 400,
     "metadata": {},
     "output_type": "execute_result"
    }
   ],
   "source": [
    "signed"
   ]
  },
  {
   "cell_type": "code",
   "execution_count": 430,
   "metadata": {},
   "outputs": [
    {
     "data": {
      "text/plain": [
       "'8b2dfa'"
      ]
     },
     "execution_count": 430,
     "metadata": {},
     "output_type": "execute_result"
    }
   ],
   "source": [
    "os.urandom(3).hex()"
   ]
  },
  {
   "cell_type": "code",
   "execution_count": 450,
   "metadata": {},
   "outputs": [
    {
     "ename": "_InactiveRpcError",
     "evalue": "<_InactiveRpcError of RPC that terminated with:\n\tstatus = StatusCode.INTERNAL\n\tdetails = \"Internal error\"\n\tdebug_error_string = \"{\"created\":\"@1653564607.449024000\",\"description\":\"Error received from peer ipv6:[::1]:59530\",\"file\":\"src/core/lib/surface/call.cc\",\"file_line\":953,\"grpc_message\":\"Internal error\",\"grpc_status\":13}\"\n>",
     "output_type": "error",
     "traceback": [
      "\u001b[0;31m---------------------------------------------------------------------------\u001b[0m",
      "\u001b[0;31m_InactiveRpcError\u001b[0m                         Traceback (most recent call last)",
      "Input \u001b[0;32mIn [450]\u001b[0m, in \u001b[0;36m<cell line: 1>\u001b[0;34m()\u001b[0m\n\u001b[0;32m----> 1\u001b[0m \u001b[43mget_ipython\u001b[49m\u001b[43m(\u001b[49m\u001b[43m)\u001b[49m\u001b[38;5;241;43m.\u001b[39;49m\u001b[43mrun_cell_magic\u001b[49m\u001b[43m(\u001b[49m\u001b[38;5;124;43m'\u001b[39;49m\u001b[38;5;124;43mtimeit\u001b[39;49m\u001b[38;5;124;43m'\u001b[39;49m\u001b[43m,\u001b[49m\u001b[43m \u001b[49m\u001b[38;5;124;43m'\u001b[39;49m\u001b[38;5;124;43m'\u001b[39;49m\u001b[43m,\u001b[49m\u001b[43m \u001b[49m\u001b[38;5;124;43m'\u001b[39;49m\u001b[38;5;124;43m# signed = sk.sign(enc, encoder=HexEncoder)\u001b[39;49m\u001b[38;5;130;43;01m\\n\u001b[39;49;00m\u001b[38;5;124;43m# block_height = vega.core_client().LastBlockHeight(core_proto.LastBlockHeightRequest()).height\u001b[39;49m\u001b[38;5;130;43;01m\\n\u001b[39;49;00m\u001b[38;5;130;43;01m\\n\u001b[39;49;00m\u001b[38;5;124;43mhash_tx = hashlib.sha256()\u001b[39;49m\u001b[38;5;130;43;01m\\n\u001b[39;49;00m\u001b[38;5;124;43mhash_tx.update(os.urandom(10))\u001b[39;49m\u001b[38;5;130;43;01m\\n\u001b[39;49;00m\u001b[38;5;124;43mtx_byte = hash_tx.digest()\u001b[39;49m\u001b[38;5;130;43;01m\\n\u001b[39;49;00m\u001b[38;5;124;43mtx_hex = tx_byte.hex().upper()\u001b[39;49m\u001b[38;5;130;43;01m\\n\u001b[39;49;00m\u001b[38;5;130;43;01m\\n\u001b[39;49;00m\u001b[38;5;124;43m# nonce, proof = PoW(signed, tx_byte)\u001b[39;49m\u001b[38;5;130;43;01m\\n\u001b[39;49;00m\u001b[38;5;130;43;01m\\n\u001b[39;49;00m\u001b[38;5;124;43minput_data = transaction_proto.InputData(\u001b[39;49m\u001b[38;5;130;43;01m\\n\u001b[39;49;00m\u001b[38;5;124;43m    nonce = random.randint(0, 100000),\u001b[39;49m\u001b[38;5;130;43;01m\\n\u001b[39;49;00m\u001b[38;5;124;43m    block_height = block_height,\u001b[39;49m\u001b[38;5;130;43;01m\\n\u001b[39;49;00m\u001b[38;5;124;43m    order_submission = order_data\u001b[39;49m\u001b[38;5;130;43;01m\\n\u001b[39;49;00m\u001b[38;5;124;43m)\u001b[39;49m\u001b[38;5;130;43;01m\\n\u001b[39;49;00m\u001b[38;5;124;43mserialised = input_data.SerializeToString()\u001b[39;49m\u001b[38;5;130;43;01m\\n\u001b[39;49;00m\u001b[38;5;130;43;01m\\n\u001b[39;49;00m\u001b[38;5;124;43mtrans = transaction_proto.Transaction(\u001b[39;49m\u001b[38;5;130;43;01m\\n\u001b[39;49;00m\u001b[38;5;124;43m        input_data=serialised,\u001b[39;49m\u001b[38;5;130;43;01m\\n\u001b[39;49;00m\u001b[38;5;124;43m        signature=signature_proto.Signature(\u001b[39;49m\u001b[38;5;130;43;01m\\n\u001b[39;49;00m\u001b[38;5;124;43m            value=os.urandom(6).hex(), #cb13db9dc390cc0a6d90b3d9be81b79d9dd390c5878d4bfcca\u001b[39;49m\u001b[38;5;130;43;01m\\'\u001b[39;49;00m\u001b[38;5;124;43m, #signed,\u001b[39;49m\u001b[38;5;130;43;01m\\n\u001b[39;49;00m\u001b[38;5;124;43m            algo=\u001b[39;49m\u001b[38;5;124;43m\"\u001b[39;49m\u001b[38;5;124;43mvega/ed25519\u001b[39;49m\u001b[38;5;124;43m\"\u001b[39;49m\u001b[38;5;124;43m,\u001b[39;49m\u001b[38;5;130;43;01m\\n\u001b[39;49;00m\u001b[38;5;124;43m            version=1,\u001b[39;49m\u001b[38;5;130;43;01m\\n\u001b[39;49;00m\u001b[38;5;124;43m        ),\u001b[39;49m\u001b[38;5;130;43;01m\\n\u001b[39;49;00m\u001b[38;5;124;43m        pub_key=pub_key,\u001b[39;49m\u001b[38;5;130;43;01m\\n\u001b[39;49;00m\u001b[38;5;124;43m        version=2,\u001b[39;49m\u001b[38;5;130;43;01m\\n\u001b[39;49;00m\u001b[38;5;124;43m        \u001b[39;49m\u001b[38;5;130;43;01m\\n\u001b[39;49;00m\u001b[38;5;124;43m        pow=transaction_proto.ProofOfWork(\u001b[39;49m\u001b[38;5;130;43;01m\\n\u001b[39;49;00m\u001b[38;5;124;43m            tid=str(tx_hex),\u001b[39;49m\u001b[38;5;130;43;01m\\n\u001b[39;49;00m\u001b[38;5;124;43m            nonce=0, #int.from_bytes(nonce, byteorder=\u001b[39;49m\u001b[38;5;130;43;01m\\'\u001b[39;49;00m\u001b[38;5;124;43mbig\u001b[39;49m\u001b[38;5;130;43;01m\\'\u001b[39;49;00m\u001b[38;5;124;43m),\u001b[39;49m\u001b[38;5;130;43;01m\\n\u001b[39;49;00m\u001b[38;5;124;43m            hash_function=\u001b[39;49m\u001b[38;5;124;43m\"\u001b[39;49m\u001b[38;5;124;43msha3_24_rounds\u001b[39;49m\u001b[38;5;124;43m\"\u001b[39;49m\u001b[38;5;130;43;01m\\n\u001b[39;49;00m\u001b[38;5;124;43m        )\u001b[39;49m\u001b[38;5;130;43;01m\\n\u001b[39;49;00m\u001b[38;5;124;43m    )\u001b[39;49m\u001b[38;5;130;43;01m\\n\u001b[39;49;00m\u001b[38;5;124;43mrequest = core_proto.SubmitTransactionRequest(\u001b[39;49m\u001b[38;5;130;43;01m\\n\u001b[39;49;00m\u001b[38;5;124;43m    tx=trans,\u001b[39;49m\u001b[38;5;130;43;01m\\n\u001b[39;49;00m\u001b[38;5;124;43m    type=core_proto.SubmitTransactionRequest.Type.TYPE_ASYNC\u001b[39;49m\u001b[38;5;130;43;01m\\n\u001b[39;49;00m\u001b[38;5;124;43m)\u001b[39;49m\u001b[38;5;130;43;01m\\n\u001b[39;49;00m\u001b[38;5;130;43;01m\\n\u001b[39;49;00m\u001b[38;5;124;43mvega.core_client().SubmitTransaction(request)\u001b[39;49m\u001b[38;5;130;43;01m\\n\u001b[39;49;00m\u001b[38;5;124;43m'\u001b[39;49m\u001b[43m)\u001b[49m\n",
      "File \u001b[0;32m~/.local/share/virtualenvs/vega-market-sim-Rx-j5lal/lib/python3.9/site-packages/IPython/core/interactiveshell.py:2357\u001b[0m, in \u001b[0;36mInteractiveShell.run_cell_magic\u001b[0;34m(self, magic_name, line, cell)\u001b[0m\n\u001b[1;32m   2355\u001b[0m \u001b[38;5;28;01mwith\u001b[39;00m \u001b[38;5;28mself\u001b[39m\u001b[38;5;241m.\u001b[39mbuiltin_trap:\n\u001b[1;32m   2356\u001b[0m     args \u001b[38;5;241m=\u001b[39m (magic_arg_s, cell)\n\u001b[0;32m-> 2357\u001b[0m     result \u001b[38;5;241m=\u001b[39m \u001b[43mfn\u001b[49m\u001b[43m(\u001b[49m\u001b[38;5;241;43m*\u001b[39;49m\u001b[43margs\u001b[49m\u001b[43m,\u001b[49m\u001b[43m \u001b[49m\u001b[38;5;241;43m*\u001b[39;49m\u001b[38;5;241;43m*\u001b[39;49m\u001b[43mkwargs\u001b[49m\u001b[43m)\u001b[49m\n\u001b[1;32m   2358\u001b[0m \u001b[38;5;28;01mreturn\u001b[39;00m result\n",
      "File \u001b[0;32m~/.local/share/virtualenvs/vega-market-sim-Rx-j5lal/lib/python3.9/site-packages/IPython/core/magics/execution.py:1166\u001b[0m, in \u001b[0;36mExecutionMagics.timeit\u001b[0;34m(self, line, cell, local_ns)\u001b[0m\n\u001b[1;32m   1163\u001b[0m         \u001b[38;5;28;01mif\u001b[39;00m time_number \u001b[38;5;241m>\u001b[39m\u001b[38;5;241m=\u001b[39m \u001b[38;5;241m0.2\u001b[39m:\n\u001b[1;32m   1164\u001b[0m             \u001b[38;5;28;01mbreak\u001b[39;00m\n\u001b[0;32m-> 1166\u001b[0m all_runs \u001b[38;5;241m=\u001b[39m \u001b[43mtimer\u001b[49m\u001b[38;5;241;43m.\u001b[39;49m\u001b[43mrepeat\u001b[49m\u001b[43m(\u001b[49m\u001b[43mrepeat\u001b[49m\u001b[43m,\u001b[49m\u001b[43m \u001b[49m\u001b[43mnumber\u001b[49m\u001b[43m)\u001b[49m\n\u001b[1;32m   1167\u001b[0m best \u001b[38;5;241m=\u001b[39m \u001b[38;5;28mmin\u001b[39m(all_runs) \u001b[38;5;241m/\u001b[39m number\n\u001b[1;32m   1168\u001b[0m worst \u001b[38;5;241m=\u001b[39m \u001b[38;5;28mmax\u001b[39m(all_runs) \u001b[38;5;241m/\u001b[39m number\n",
      "File \u001b[0;32m~/.pyenv/versions/3.9.11/lib/python3.9/timeit.py:205\u001b[0m, in \u001b[0;36mTimer.repeat\u001b[0;34m(self, repeat, number)\u001b[0m\n\u001b[1;32m    203\u001b[0m r \u001b[38;5;241m=\u001b[39m []\n\u001b[1;32m    204\u001b[0m \u001b[38;5;28;01mfor\u001b[39;00m i \u001b[38;5;129;01min\u001b[39;00m \u001b[38;5;28mrange\u001b[39m(repeat):\n\u001b[0;32m--> 205\u001b[0m     t \u001b[38;5;241m=\u001b[39m \u001b[38;5;28;43mself\u001b[39;49m\u001b[38;5;241;43m.\u001b[39;49m\u001b[43mtimeit\u001b[49m\u001b[43m(\u001b[49m\u001b[43mnumber\u001b[49m\u001b[43m)\u001b[49m\n\u001b[1;32m    206\u001b[0m     r\u001b[38;5;241m.\u001b[39mappend(t)\n\u001b[1;32m    207\u001b[0m \u001b[38;5;28;01mreturn\u001b[39;00m r\n",
      "File \u001b[0;32m~/.local/share/virtualenvs/vega-market-sim-Rx-j5lal/lib/python3.9/site-packages/IPython/core/magics/execution.py:156\u001b[0m, in \u001b[0;36mTimer.timeit\u001b[0;34m(self, number)\u001b[0m\n\u001b[1;32m    154\u001b[0m gc\u001b[38;5;241m.\u001b[39mdisable()\n\u001b[1;32m    155\u001b[0m \u001b[38;5;28;01mtry\u001b[39;00m:\n\u001b[0;32m--> 156\u001b[0m     timing \u001b[38;5;241m=\u001b[39m \u001b[38;5;28;43mself\u001b[39;49m\u001b[38;5;241;43m.\u001b[39;49m\u001b[43minner\u001b[49m\u001b[43m(\u001b[49m\u001b[43mit\u001b[49m\u001b[43m,\u001b[49m\u001b[43m \u001b[49m\u001b[38;5;28;43mself\u001b[39;49m\u001b[38;5;241;43m.\u001b[39;49m\u001b[43mtimer\u001b[49m\u001b[43m)\u001b[49m\n\u001b[1;32m    157\u001b[0m \u001b[38;5;28;01mfinally\u001b[39;00m:\n\u001b[1;32m    158\u001b[0m     \u001b[38;5;28;01mif\u001b[39;00m gcold:\n",
      "File \u001b[0;32m<magic-timeit>:39\u001b[0m, in \u001b[0;36minner\u001b[0;34m(_it, _timer)\u001b[0m\n",
      "File \u001b[0;32m~/.local/share/virtualenvs/vega-market-sim-Rx-j5lal/lib/python3.9/site-packages/grpc/_channel.py:946\u001b[0m, in \u001b[0;36m_UnaryUnaryMultiCallable.__call__\u001b[0;34m(self, request, timeout, metadata, credentials, wait_for_ready, compression)\u001b[0m\n\u001b[1;32m    937\u001b[0m \u001b[38;5;28;01mdef\u001b[39;00m \u001b[38;5;21m__call__\u001b[39m(\u001b[38;5;28mself\u001b[39m,\n\u001b[1;32m    938\u001b[0m              request,\n\u001b[1;32m    939\u001b[0m              timeout\u001b[38;5;241m=\u001b[39m\u001b[38;5;28;01mNone\u001b[39;00m,\n\u001b[0;32m   (...)\u001b[0m\n\u001b[1;32m    942\u001b[0m              wait_for_ready\u001b[38;5;241m=\u001b[39m\u001b[38;5;28;01mNone\u001b[39;00m,\n\u001b[1;32m    943\u001b[0m              compression\u001b[38;5;241m=\u001b[39m\u001b[38;5;28;01mNone\u001b[39;00m):\n\u001b[1;32m    944\u001b[0m     state, call, \u001b[38;5;241m=\u001b[39m \u001b[38;5;28mself\u001b[39m\u001b[38;5;241m.\u001b[39m_blocking(request, timeout, metadata, credentials,\n\u001b[1;32m    945\u001b[0m                                   wait_for_ready, compression)\n\u001b[0;32m--> 946\u001b[0m     \u001b[38;5;28;01mreturn\u001b[39;00m \u001b[43m_end_unary_response_blocking\u001b[49m\u001b[43m(\u001b[49m\u001b[43mstate\u001b[49m\u001b[43m,\u001b[49m\u001b[43m \u001b[49m\u001b[43mcall\u001b[49m\u001b[43m,\u001b[49m\u001b[43m \u001b[49m\u001b[38;5;28;43;01mFalse\u001b[39;49;00m\u001b[43m,\u001b[49m\u001b[43m \u001b[49m\u001b[38;5;28;43;01mNone\u001b[39;49;00m\u001b[43m)\u001b[49m\n",
      "File \u001b[0;32m~/.local/share/virtualenvs/vega-market-sim-Rx-j5lal/lib/python3.9/site-packages/grpc/_channel.py:849\u001b[0m, in \u001b[0;36m_end_unary_response_blocking\u001b[0;34m(state, call, with_call, deadline)\u001b[0m\n\u001b[1;32m    847\u001b[0m         \u001b[38;5;28;01mreturn\u001b[39;00m state\u001b[38;5;241m.\u001b[39mresponse\n\u001b[1;32m    848\u001b[0m \u001b[38;5;28;01melse\u001b[39;00m:\n\u001b[0;32m--> 849\u001b[0m     \u001b[38;5;28;01mraise\u001b[39;00m _InactiveRpcError(state)\n",
      "\u001b[0;31m_InactiveRpcError\u001b[0m: <_InactiveRpcError of RPC that terminated with:\n\tstatus = StatusCode.INTERNAL\n\tdetails = \"Internal error\"\n\tdebug_error_string = \"{\"created\":\"@1653564607.449024000\",\"description\":\"Error received from peer ipv6:[::1]:59530\",\"file\":\"src/core/lib/surface/call.cc\",\"file_line\":953,\"grpc_message\":\"Internal error\",\"grpc_status\":13}\"\n>"
     ]
    }
   ],
   "source": [
    "%%timeit\n",
    "signed = sk.sign(enc, encoder=HexEncoder)\n",
    "# block_height = vega.core_client().LastBlockHeight(core_proto.LastBlockHeightRequest()).height\n",
    "\n",
    "hash_tx = hashlib.sha256()\n",
    "hash_tx.update(os.urandom(10))\n",
    "tx_byte = hash_tx.digest()\n",
    "tx_hex = tx_byte.hex().upper()\n",
    "\n",
    "nonce, proof = PoW(signed, tx_byte)\n",
    "\n",
    "input_data = transaction_proto.InputData(\n",
    "    nonce = random.randint(0, 100000),\n",
    "    block_height = block_height,\n",
    "    order_submission = order_data\n",
    ")\n",
    "serialised = input_data.SerializeToString()\n",
    "\n",
    "trans = transaction_proto.Transaction(\n",
    "        input_data=serialised,\n",
    "        signature=signature_proto.Signature(\n",
    "            value=signed,\n",
    "            algo=\"vega/ed25519\",\n",
    "            version=1,\n",
    "        ),\n",
    "        pub_key=pub_key,\n",
    "        version=2,\n",
    "        \n",
    "        pow=transaction_proto.ProofOfWork(\n",
    "            tid=str(tx_hex),\n",
    "            nonce=int.from_bytes(nonce, byteorder='big'),\n",
    "            hash_function=\"sha3_24_rounds\"\n",
    "        )\n",
    "    )\n",
    "request = core_proto.SubmitTransactionRequest(\n",
    "    tx=trans,\n",
    "    type=core_proto.SubmitTransactionRequest.Type.TYPE_ASYNC\n",
    ")\n",
    "\n",
    "vega.core_client().SubmitTransaction(request)"
   ]
  },
  {
   "cell_type": "code",
   "execution_count": 449,
   "metadata": {},
   "outputs": [],
   "source": [
    "vega.forward('1s')"
   ]
  },
  {
   "cell_type": "code",
   "execution_count": 404,
   "metadata": {},
   "outputs": [],
   "source": [
    "vega.stop()"
   ]
  },
  {
   "cell_type": "code",
   "execution_count": 127,
   "metadata": {},
   "outputs": [
    {
     "name": "stdout",
     "output_type": "stream",
     "text": [
      "360 µs ± 16.1 µs per loop (mean ± std. dev. of 7 runs, 1,000 loops each)\n"
     ]
    }
   ],
   "source": [
    "%%timeit\n",
    "vega.core_client().SubmitTransaction(request)"
   ]
  },
  {
   "cell_type": "code",
   "execution_count": 222,
   "metadata": {},
   "outputs": [
    {
     "data": {
      "text/plain": [
       "56430"
      ]
     },
     "execution_count": 222,
     "metadata": {},
     "output_type": "execute_result"
    }
   ],
   "source": [
    "vega.data_node_graphql_port"
   ]
  },
  {
   "cell_type": "code",
   "execution_count": 237,
   "metadata": {},
   "outputs": [],
   "source": [
    "from vega_sim.proto.data_node.api.v1.trading_data_pb2 import GetVegaTimeRequest\n",
    "blockchain_time = vega.trading_data_client().GetVegaTime(GetVegaTimeRequest()).timestamp"
   ]
  },
  {
   "cell_type": "code",
   "execution_count": 238,
   "metadata": {},
   "outputs": [
    {
     "data": {
      "text/plain": [
       "1638185813259066000"
      ]
     },
     "execution_count": 238,
     "metadata": {},
     "output_type": "execute_result"
    }
   ],
   "source": [
    "blockchain_time"
   ]
  },
  {
   "cell_type": "code",
   "execution_count": 273,
   "metadata": {},
   "outputs": [],
   "source": [
    "propo = commands_proto.ProposalSubmission(\n",
    "    reference=\"awdawfanaw\",\n",
    "    rationale=gov_proto.ProposalRationale(description=\"A test\"),\n",
    "    terms = gov_proto.ProposalTerms(\n",
    "            closing_timestamp= blockchain_time + 400,\n",
    "            enactment_timestamp= blockchain_time + 1000,\n",
    "            validation_timestamp= blockchain_time + 100,\n",
    "            update_network_parameter=gov_proto.UpdateNetworkParameter(\n",
    "                changes = vega_protos.vega.NetworkParameter(\n",
    "                    key = \"market.fee.factors.makerFee\",\n",
    "                    value = \"0.02\",\n",
    "                )\n",
    "            )\n",
    "    )\n",
    ")"
   ]
  },
  {
   "cell_type": "code",
   "execution_count": 453,
   "metadata": {},
   "outputs": [
    {
     "name": "stdout",
     "output_type": "stream",
     "text": [
      "1.24 ms ± 104 µs per loop (mean ± std. dev. of 7 runs, 1,000 loops each)\n"
     ]
    }
   ],
   "source": [
    "%%timeit\n",
    "signed = sk.sign(enc, encoder=HexEncoder)\n",
    "# block_height = vega.core_client().LastBlockHeight(core_proto.LastBlockHeightRequest()).height\n",
    "\n",
    "hash_tx = hashlib.sha256()\n",
    "hash_tx.update(os.urandom(10))\n",
    "tx_byte = hash_tx.digest()\n",
    "tx_hex = tx_byte.hex().upper()\n",
    "\n",
    "nonce, proof = PoW(signed, tx_byte)\n",
    "\n",
    "input_data = transaction_proto.InputData(\n",
    "    nonce = random.randint(0, 1000000),\n",
    "    block_height = block_height,\n",
    "    proposal_submission = propo\n",
    ")\n",
    "serialised = input_data.SerializeToString()\n",
    "\n",
    "trans = transaction_proto.Transaction(\n",
    "        input_data=serialised,\n",
    "        signature=signature_proto.Signature(\n",
    "            value=signed,\n",
    "            algo=\"vega/ed25519\",\n",
    "            version=1,\n",
    "        ),\n",
    "        pub_key=pub_key,\n",
    "        version=2,\n",
    "        pow=transaction_proto.ProofOfWork(\n",
    "            tid=str(tx_hex),\n",
    "            nonce=int.from_bytes(nonce, byteorder='big'),\n",
    "            hash_function=\"sha3_24_rounds\"\n",
    "        )\n",
    "    )\n",
    "request = core_proto.SubmitTransactionRequest(\n",
    "    tx=trans,\n",
    "    type=core_proto.SubmitTransactionRequest.Type.TYPE_COMMIT\n",
    ")\n",
    "\n",
    "res = vega.core_client().SubmitTransaction(request)"
   ]
  },
  {
   "cell_type": "code",
   "execution_count": 283,
   "metadata": {},
   "outputs": [
    {
     "data": {
      "text/plain": [
       "103"
      ]
     },
     "execution_count": 283,
     "metadata": {},
     "output_type": "execute_result"
    }
   ],
   "source": [
    "transaction_proto.InputData().ParseFromString(serialised)"
   ]
  },
  {
   "cell_type": "code",
   "execution_count": 284,
   "metadata": {},
   "outputs": [
    {
     "data": {
      "text/plain": [
       "nonce: 12002\n",
       "block_height: 760\n",
       "proposal_submission {\n",
       "  reference: \"awdawfanaw\"\n",
       "  terms {\n",
       "    closing_timestamp: 1638185813259066400\n",
       "    enactment_timestamp: 1638185813259067000\n",
       "    validation_timestamp: 1638185813259066100\n",
       "    update_network_parameter {\n",
       "      changes {\n",
       "        key: \"market.fee.factors.makerFee\"\n",
       "        value: \"0.02\"\n",
       "      }\n",
       "    }\n",
       "  }\n",
       "  rationale {\n",
       "    description: \"A test\"\n",
       "  }\n",
       "}"
      ]
     },
     "execution_count": 284,
     "metadata": {},
     "output_type": "execute_result"
    }
   ],
   "source": [
    "input_data"
   ]
  }
 ],
 "metadata": {
  "interpreter": {
   "hash": "87b20bb796d189f13d9ce00805651be06d69b84ebb9e8b04acadd5416d612a7f"
  },
  "kernelspec": {
   "display_name": "Python 3 (ipykernel)",
   "language": "python",
   "name": "python3"
  },
  "language_info": {
   "codemirror_mode": {
    "name": "ipython",
    "version": 3
   },
   "file_extension": ".py",
   "mimetype": "text/x-python",
   "name": "python",
   "nbconvert_exporter": "python",
   "pygments_lexer": "ipython3",
   "version": "3.9.11"
  }
 },
 "nbformat": 4,
 "nbformat_minor": 4
}
