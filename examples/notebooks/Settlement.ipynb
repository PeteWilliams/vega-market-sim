{
 "cells": [
  {
   "cell_type": "code",
   "execution_count": 50,
   "id": "4eb2bebd-77d2-42bd-b31a-51b1abd21fba",
   "metadata": {},
   "outputs": [
    {
     "name": "stdout",
     "output_type": "stream",
     "text": [
      "The autoreload extension is already loaded. To reload it, use:\n",
      "  %reload_ext autoreload\n"
     ]
    }
   ],
   "source": [
    "%load_ext autoreload\n",
    "%autoreload 2"
   ]
  },
  {
   "cell_type": "code",
   "execution_count": 51,
   "id": "93778ab8-58fb-4d3a-b5d5-6186db5d637d",
   "metadata": {},
   "outputs": [],
   "source": [
    "from collections import namedtuple\n",
    "\n",
    "from vega_sim.null_service import VegaServiceNull\n",
    "\n",
    "import numpy as np\n",
    "import time"
   ]
  },
  {
   "cell_type": "code",
   "execution_count": 52,
   "id": "b48d05f5-00fd-4196-a6cd-9d02bd28ff9b",
   "metadata": {},
   "outputs": [],
   "source": [
    "WalletConfig = namedtuple(\"WalletConfig\", [\"name\", \"passphrase\"])\n",
    "\n",
    "MM_WALLET = WalletConfig(\"mm\", \"pin\")\n",
    "\n",
    "TRADER_1_WALLET = WalletConfig(\"T1\", \"pin\")\n",
    "\n",
    "TRADER_2_WALLET = WalletConfig(\"T2\", \"pin\")\n",
    "\n",
    "TERMINATE_WALLET = WalletConfig(\"Settle\", \"pin\")\n",
    "\n",
    "wallets = [MM_WALLET, TRADER_1_WALLET, TRADER_2_WALLET, TERMINATE_WALLET]"
   ]
  },
  {
   "cell_type": "code",
   "execution_count": 53,
   "id": "8a55f9ef-9af4-473f-ab15-09883059e7c7",
   "metadata": {},
   "outputs": [
    {
     "name": "stdout",
     "output_type": "stream",
     "text": [
      "/var/folders/67/mjxp58z56yj83_1x0372gkwr0000gn/T/tmpisr0fafw\n"
     ]
    }
   ],
   "source": [
    "vega = VegaServiceNull(run_with_console=True, block_duration='1s')\n",
    "vega.start()"
   ]
  },
  {
   "cell_type": "code",
   "execution_count": 54,
   "id": "b55ee450-0442-4175-b912-3ca6940bb812",
   "metadata": {},
   "outputs": [
    {
     "name": "stdout",
     "output_type": "stream",
     "text": [
      "http://localhost:52858\n"
     ]
    }
   ],
   "source": [
    "print(vega.wallet_url)"
   ]
  },
  {
   "cell_type": "markdown",
   "id": "1a794af8-c9ee-49f3-a1cd-1c8ff032b31d",
   "metadata": {},
   "source": [
    "#### Create the wallets"
   ]
  },
  {
   "cell_type": "code",
   "execution_count": 55,
   "id": "6c7e104f-2bc8-465d-82c4-94102fb0b08f",
   "metadata": {},
   "outputs": [],
   "source": [
    "for wallet in wallets:\n",
    "    vega.create_wallet(wallet.name, passphrase=wallet.passphrase)\n",
    "vega.forward('10s')"
   ]
  },
  {
   "cell_type": "markdown",
   "id": "5b75a56d-6435-4795-8286-7800c97e3933",
   "metadata": {},
   "source": [
    "#### Create the asset + market"
   ]
  },
  {
   "cell_type": "code",
   "execution_count": 56,
   "id": "2020bd42-8a53-4527-af16-d63d1b781584",
   "metadata": {},
   "outputs": [],
   "source": [
    "vega.mint(\n",
    "    MM_WALLET.name,\n",
    "    asset=\"VOTE\",\n",
    "    amount=10000,\n",
    ")\n",
    "\n",
    "vega.forward(\"20s\")\n",
    "vega.create_asset(\n",
    "    MM_WALLET.name,\n",
    "    name=\"tDAI\",\n",
    "    symbol=\"tDAI\",\n",
    "    decimals=5,\n",
    "    max_faucet_amount=10e10,\n",
    ")"
   ]
  },
  {
   "cell_type": "code",
   "execution_count": 57,
   "id": "dcc18fdb-4a5a-4c90-a62f-d34ed9709c8d",
   "metadata": {},
   "outputs": [],
   "source": [
    "tdai_id = vega.find_asset_id(symbol=\"tDAI\")"
   ]
  },
  {
   "cell_type": "code",
   "execution_count": 58,
   "id": "08dce991-7fbc-485d-b6f2-2889b754c0d4",
   "metadata": {},
   "outputs": [],
   "source": [
    "vega.mint(\n",
    "    MM_WALLET.name,\n",
    "    tdai_id,\n",
    "    amount=10e5\n",
    ")\n",
    "vega.mint(\n",
    "    TRADER_1_WALLET.name,\n",
    "    tdai_id,\n",
    "    amount=10e5\n",
    ")\n",
    "vega.mint(\n",
    "    TRADER_2_WALLET.name,\n",
    "    tdai_id,\n",
    "    amount=10e5\n",
    ")"
   ]
  },
  {
   "cell_type": "markdown",
   "id": "5e50c3fe-55af-4ff1-a1ef-1de2b2573ece",
   "metadata": {},
   "source": [
    "#### Create the market and set up liquidity"
   ]
  },
  {
   "cell_type": "code",
   "execution_count": 59,
   "id": "b329b75c-0e27-4b3d-b5c6-0b1a34a04894",
   "metadata": {},
   "outputs": [],
   "source": [
    "vega.create_simple_market(\n",
    "        market_name=\"BTC:DAI_Mar22\",\n",
    "        proposal_wallet=MM_WALLET.name,\n",
    "        settlement_asset_id=tdai_id,\n",
    "        termination_wallet=TERMINATE_WALLET.name,\n",
    "        position_decimals=2,\n",
    "        market_decimals=3,\n",
    "    )"
   ]
  },
  {
   "cell_type": "code",
   "execution_count": 60,
   "id": "4e6762d4-a986-492d-84fe-59b3a1a562ff",
   "metadata": {},
   "outputs": [
    {
     "name": "stderr",
     "output_type": "stream",
     "text": [
      "Using function with raw data from data-node VegaService.all_markets. Be wary if prices/positions are not converted from int form\n"
     ]
    }
   ],
   "source": [
    "market_id = vega.all_markets()[0].id"
   ]
  },
  {
   "cell_type": "code",
   "execution_count": 61,
   "id": "49afceef-d159-4afb-85e1-e7c47eaf3a6c",
   "metadata": {},
   "outputs": [],
   "source": [
    "vega.submit_simple_liquidity(\n",
    "    wallet_name=MM_WALLET.name,\n",
    "    market_id=market_id,\n",
    "    commitment_amount=3e5,\n",
    "    fee=0.005,\n",
    "    reference_buy=\"PEGGED_REFERENCE_BEST_BID\",\n",
    "    reference_sell=\"PEGGED_REFERENCE_BEST_ASK\",\n",
    "    delta_buy=10,\n",
    "    delta_sell=10,\n",
    "    is_amendment=True,\n",
    ")"
   ]
  },
  {
   "cell_type": "code",
   "execution_count": 62,
   "id": "2fb9cbaf-7d48-4b22-a590-749fe42b290e",
   "metadata": {},
   "outputs": [],
   "source": [
    "# Submit orders which will stay on the book and create best bid / ask \n",
    "vega.submit_order(\n",
    "    trading_wallet=MM_WALLET.name,\n",
    "    market_id=market_id,\n",
    "    order_type=\"TYPE_LIMIT\",\n",
    "    time_in_force=\"TIME_IN_FORCE_GTC\",\n",
    "    side=\"SIDE_BUY\",\n",
    "    volume=1,\n",
    "    price=95,\n",
    "    wait=False,\n",
    ")\n",
    "\n",
    "vega.submit_order(\n",
    "    trading_wallet=MM_WALLET.name,\n",
    "    market_id=market_id,\n",
    "    order_type=\"TYPE_LIMIT\",\n",
    "    time_in_force=\"TIME_IN_FORCE_GTC\",\n",
    "    side=\"SIDE_SELL\",\n",
    "    volume=1,\n",
    "    price=105,\n",
    "    wait=False,\n",
    ")\n",
    "\n"
   ]
  },
  {
   "cell_type": "code",
   "execution_count": 63,
   "id": "7d7dd579",
   "metadata": {},
   "outputs": [
    {
     "name": "stdout",
     "output_type": "stream",
     "text": [
      "mm General = 699986.33776\n",
      "mm Margin  = 13.66224\n",
      "mm Bond    = 300000.0\n",
      "T1 General = 1000000.0\n",
      "T1 Margin  = nan\n",
      "T1 Bond    = nan\n",
      "T2 General = 1000000.0\n",
      "T2 Margin  = nan\n",
      "T2 Bond    = nan\n",
      "Settle General = nan\n",
      "Settle Margin  = nan\n",
      "Settle Bond    = nan\n"
     ]
    }
   ],
   "source": [
    "for wallet in wallets:\n",
    "    general, margin, bond = vega.party_account(wallet_name=wallet.name, asset_id=tdai_id, market_id=market_id)\n",
    "    print(wallet.name + \" General = \"+str(general))\n",
    "    print(wallet.name + \" Margin  = \"+str(margin))\n",
    "    print(wallet.name + \" Bond    = \"+str(bond))"
   ]
  },
  {
   "cell_type": "markdown",
   "id": "b6378ae4-ed75-41d8-bb66-7887d32848e3",
   "metadata": {},
   "source": [
    "#### Do some trading"
   ]
  },
  {
   "cell_type": "code",
   "execution_count": 64,
   "id": "7c3a0346-4c12-4904-956e-cc87252ad2a7",
   "metadata": {},
   "outputs": [],
   "source": [
    "# Do a trade which will cross\n",
    "vega.submit_order(\n",
    "    trading_wallet=TRADER_1_WALLET.name,\n",
    "    market_id=market_id,\n",
    "    order_type=\"TYPE_LIMIT\",\n",
    "    time_in_force=\"TIME_IN_FORCE_GTC\",\n",
    "    side=\"SIDE_BUY\",\n",
    "    volume=1,\n",
    "    price=100,\n",
    "    wait=False,\n",
    ")\n",
    "\n",
    "vega.submit_order(\n",
    "    trading_wallet=TRADER_2_WALLET.name,\n",
    "    market_id=market_id,\n",
    "    order_type=\"TYPE_LIMIT\",\n",
    "    time_in_force=\"TIME_IN_FORCE_GTC\",\n",
    "    side=\"SIDE_SELL\",\n",
    "    volume=1,\n",
    "    price=100,\n",
    "    wait=False,\n",
    ")\n",
    "vega.forward('10s')\n",
    "\n",
    "# We will now have mark price of 100 \n"
   ]
  },
  {
   "cell_type": "code",
   "execution_count": 65,
   "id": "7da49ab4",
   "metadata": {},
   "outputs": [
    {
     "name": "stdout",
     "output_type": "stream",
     "text": [
      "mm General = 999993.49418\n",
      "mm Margin  = 6.50582\n",
      "mm Bond    = 0.0\n",
      "T1 General = 999987.63244\n",
      "T1 Margin  = 12.36756\n",
      "T1 Bond    = nan\n",
      "T2 General = 999986.98836\n",
      "T2 Margin  = 13.01164\n",
      "T2 Bond    = nan\n",
      "Settle General = nan\n",
      "Settle Margin  = nan\n",
      "Settle Bond    = nan\n"
     ]
    }
   ],
   "source": [
    "for wallet in wallets:\n",
    "    general, margin, bond = vega.party_account(wallet_name=wallet.name, asset_id=tdai_id, market_id=market_id)\n",
    "    print(wallet.name + \" General = \"+str(general))\n",
    "    print(wallet.name + \" Margin  = \"+str(margin))\n",
    "    print(wallet.name + \" Bond    = \"+str(bond))"
   ]
  },
  {
   "cell_type": "code",
   "execution_count": 66,
   "id": "73c6a4e4-a13d-4fd9-9c51-3091571db2e0",
   "metadata": {},
   "outputs": [],
   "source": [
    "vega.settle_market(settlement_wallet = TERMINATE_WALLET.name, settlement_price = 95, market_id=market_id)"
   ]
  },
  {
   "cell_type": "code",
   "execution_count": 69,
   "id": "53711fd6",
   "metadata": {},
   "outputs": [
    {
     "name": "stderr",
     "output_type": "stream",
     "text": [
      "Using function with raw data from data-node VegaService.positions_by_market. Be wary if prices/positions are not converted from int form\n",
      "Using function with raw data from data-node VegaService.positions_by_market. Be wary if prices/positions are not converted from int form\n",
      "Using function with raw data from data-node VegaService.positions_by_market. Be wary if prices/positions are not converted from int form\n",
      "Using function with raw data from data-node VegaService.positions_by_market. Be wary if prices/positions are not converted from int form\n"
     ]
    },
    {
     "name": "stdout",
     "output_type": "stream",
     "text": [
      "mm General = 999993.49418\n",
      "mm Margin  = 6.50582\n",
      "mm Bond    = 0.0\n",
      "[market_id: \"3b7adda63cfe46ac362452a69f4b7b7f9ff6f2c03b89535b8b97f5d19355ced5\"\n",
      "party_id: \"46872e78ad5b59532d1c7dcdd120b87c098beeccb4aac94052d957e0939c84ad\"\n",
      "realised_pnl: \"0\"\n",
      "unrealised_pnl: \"0\"\n",
      "average_entry_price: \"0\"\n",
      "]\n",
      "T1 General = 999987.63244\n",
      "T1 Margin  = 12.36756\n",
      "T1 Bond    = nan\n",
      "[market_id: \"3b7adda63cfe46ac362452a69f4b7b7f9ff6f2c03b89535b8b97f5d19355ced5\"\n",
      "party_id: \"a52dffd52ed886a91f4d8b60a070f70c0ecbbbf6ca8fcf3872f8783a28419b12\"\n",
      "open_volume: 100\n",
      "realised_pnl: \"0\"\n",
      "unrealised_pnl: \"0\"\n",
      "average_entry_price: \"10000000\"\n",
      "]\n",
      "T2 General = 999986.98836\n",
      "T2 Margin  = 13.01164\n",
      "T2 Bond    = nan\n",
      "[market_id: \"3b7adda63cfe46ac362452a69f4b7b7f9ff6f2c03b89535b8b97f5d19355ced5\"\n",
      "party_id: \"09f6ab18d3d4a5af19855fdabbb0b1e2d0eb36150a1094ee1fbc4376fdd37ec8\"\n",
      "open_volume: -100\n",
      "realised_pnl: \"0\"\n",
      "unrealised_pnl: \"0\"\n",
      "average_entry_price: \"10000000\"\n",
      "]\n",
      "Settle General = nan\n",
      "Settle Margin  = nan\n",
      "Settle Bond    = nan\n",
      "[]\n"
     ]
    }
   ],
   "source": [
    "vega.forward('10s')\n",
    "\n",
    "for wallet in wallets:\n",
    "    general, margin, bond = vega.party_account(wallet_name=wallet.name, asset_id=tdai_id, market_id=market_id)\n",
    "    print(wallet.name + \" General = \"+str(general))\n",
    "    print(wallet.name + \" Margin  = \"+str(margin))\n",
    "    print(wallet.name + \" Bond    = \"+str(bond))\n",
    "\n",
    "    positions = vega.positions_by_market(wallet_name=wallet.name, market_id=market_id)\n",
    "    print(positions)\n"
   ]
  },
  {
   "cell_type": "code",
   "execution_count": 49,
   "id": "4b9e8593-40db-49e1-88c8-3fb449f2b35c",
   "metadata": {
    "tags": []
   },
   "outputs": [],
   "source": [
    "vega.stop()"
   ]
  }
 ],
 "metadata": {
  "kernelspec": {
   "display_name": "Python 3.10.4 ('vega-sim')",
   "language": "python",
   "name": "python3"
  },
  "language_info": {
   "codemirror_mode": {
    "name": "ipython",
    "version": 3
   },
   "file_extension": ".py",
   "mimetype": "text/x-python",
   "name": "python",
   "nbconvert_exporter": "python",
   "pygments_lexer": "ipython3",
   "version": "3.10.4"
  },
  "vscode": {
   "interpreter": {
    "hash": "c9d06bc7795038aafaabe9c4105b3183a0269aca30f56723c16a3e47dfd25edc"
   }
  }
 },
 "nbformat": 4,
 "nbformat_minor": 5
}
