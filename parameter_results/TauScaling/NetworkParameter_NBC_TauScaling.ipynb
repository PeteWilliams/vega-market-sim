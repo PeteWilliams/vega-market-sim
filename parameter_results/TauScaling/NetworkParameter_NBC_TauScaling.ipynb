{
 "cells": [
  {
   "cell_type": "markdown",
   "id": "41b7ce68",
   "metadata": {},
   "source": [
    "***Task Overview***\n",
    "\n",
    "As a researcher, I would like to find out the impact from contentious parameters (`market.liquidity.probabilityOfTrading.tau.scaling`), so that I can set a reasonable default value for them.\n",
    "\n",
    "`market.liquidity.probabilityOfTrading.tau.scaling` is a scaling parameter which is used to scale $\\tau$ in risk model in calculation of probability of trading calculation so to eventually adjust the pegged volume for liquidity provider. \n",
    "\n",
    "Change of `market.liquidity.probabilityOfTrading.tau.scaling` will immediately change the scaling parameter for $\\tau$\n",
    ", hence will change the probability of trading in LP orders, as well as the margin requirement of the LPs, and eventually change the PnL of the LPs. \n",
    "\n",
    "***Input Metrics***\n",
    "\n",
    "- simulated market is **ETH/USD** with market decimal place **mdp = 3**, asset decimal place **adp = 5** and position decimal place **pdp = 2**\n",
    "\n",
    "- initial mid-price of **ETH/USD** is **$1123.11** (the average price on 15/06/2022)\n",
    "\n",
    "- run **Trials=5** trials for each test\n",
    "\n",
    "- each trial has **Time = 86400 s = 24 h** with interval of **5 min**\n",
    "\n",
    "- target simulated daily traded notional is **$694,928,100.62**\n",
    "\n",
    "- LP commitment is set to be a reasonable constant number in the simulation to avoid liquidity auction\n",
    "\n",
    "- network parameter `market.liquidity.probabilityOfTrading.tau.scaling` is set to be [1, 10, 100]\n",
    "\n",
    "\n",
    "***Output Metrics***\n",
    "\n",
    "Under different network parameter `market.liquidity.probabilityOfTrading.tau.scaling`:\n",
    "\n",
    "- Output 1: LP postion\n",
    "\n",
    "- Output 2: average of LP margin account\n",
    "\n",
    "- Output 3: average of LP bond account\n",
    "\n",
    "- Output 4: average of LP's **general PnL** \n",
    "\n",
    "- Output 5: average of **traded notional**\n",
    "\n",
    "- Output 6: average of market **open interest**\n",
    "\n",
    "- Output 7: average of **target stake** of market \n"
   ]
  },
  {
   "cell_type": "markdown",
   "id": "f4dc32ce",
   "metadata": {},
   "source": [
    "### Display"
   ]
  },
  {
   "cell_type": "code",
   "execution_count": null,
   "id": "4643cb6d",
   "metadata": {},
   "outputs": [],
   "source": [
    "import os\n",
    "from parameter_results.toolkit import SingleParameterExperimentTk\n",
    "\n",
    "experiment = SingleParameterExperimentTk(\n",
    "    path=os.getcwd(),\n",
    "    dt=5/60,\n",
    ")"
   ]
  },
  {
   "cell_type": "code",
   "execution_count": null,
   "id": "3230cd41",
   "metadata": {},
   "outputs": [],
   "source": [
    "experiment.display([\"variable\"])"
   ]
  },
  {
   "cell_type": "code",
   "execution_count": null,
   "id": "621a549c",
   "metadata": {},
   "outputs": [],
   "source": [
    "experiment.plot_results()"
   ]
  },
  {
   "cell_type": "code",
   "execution_count": null,
   "id": "64f558b5",
   "metadata": {},
   "outputs": [],
   "source": [
    "experiment.plot_comparison(\n",
    "    variables=[\"External Midprice\", \"Markprice\"],\n",
    "    formats=[\"b-\", \"r:\"],\n",
    "    ylabel=\"Price\",\n",
    "    variables_right=[\"Market State\"],\n",
    "    formats_right=[\"k.\"],\n",
    "    ylabel_right=\"Market State\",\n",
    ")"
   ]
  },
  {
   "cell_type": "code",
   "execution_count": null,
   "id": "e8d7f1ad",
   "metadata": {},
   "outputs": [],
   "source": [
    "# Plot LOB\n",
    "experiment.display([\"param_value\", \"iteration\"])"
   ]
  },
  {
   "cell_type": "code",
   "execution_count": null,
   "id": "920db161",
   "metadata": {},
   "outputs": [],
   "source": [
    "# 2D animation of LOB\n",
    "experiment.animate_lob()"
   ]
  },
  {
   "cell_type": "code",
   "execution_count": null,
   "id": "277b3695",
   "metadata": {},
   "outputs": [],
   "source": [
    "# 3D plot of LOB\n",
    "experiment.plot_lob()"
   ]
  }
 ],
 "metadata": {
  "kernelspec": {
   "display_name": "Python 3 (ipykernel)",
   "language": "python",
   "name": "python3"
  },
  "language_info": {
   "codemirror_mode": {
    "name": "ipython",
    "version": 3
   },
   "file_extension": ".py",
   "mimetype": "text/x-python",
   "name": "python",
   "nbconvert_exporter": "python",
   "pygments_lexer": "ipython3",
   "version": "3.10.5"
  },
  "vscode": {
   "interpreter": {
    "hash": "fcee2fa48d748e2488b6026bb440d19b7432a8bda11c0a191cabf20bd7d8a9eb"
   }
  }
 },
 "nbformat": 4,
 "nbformat_minor": 5
}
