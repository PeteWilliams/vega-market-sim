{
 "cells": [
  {
   "cell_type": "markdown",
   "id": "41b7ce68",
   "metadata": {},
   "source": [
    "***Task Overview***\n",
    "\n",
    "As a researcher, I would like to find out the impact from contentious parameters ('market.stake.target.scalingFactor'), so that I can set a reasonable default value for them.\n",
    "\n",
    "`market.stake.target.scalingFactor` is a market parameter defining scaling between liquidity demand estimate based on open interest and target stake. Its used in calculating of `target_stake' as below:\n",
    "\n",
    "`target_stake = reference_price x max_oi x market.stake.target.scalingFactor x rf`,\n",
    "\n",
    "- If the LPs total committed stake is less than c_1 x `target_stake` we trigger liquidity auction.\n",
    "- `target_stake' is also used as a threshold in LP commitment amendment (when 'total stake' is less than `target_stake', then LP can not reduce their commitment amount), however we only need to focus on the function above at this stage. \n",
    "- Change of 'market.stake.target.scalingFactor' will immediately change the scaling between liquidity demand estimate based on open interest and target stake, hence immediately change the target satke, and therefore change the timing of triggering liquidity auction. \n",
    "\n",
    "***Input Metrics***\n",
    "\n",
    "- simulated market is **ETH/USD** with market decimal place **mdp = 3**, asset decimal place **adp = 5** and position decimal place **pdp = 2**\n",
    "\n",
    "- initial mid-price of **ETH/USD** is **$1123.11** (the average price on 15/06/2022)\n",
    "\n",
    "- run **Trials=5** trials for each test\n",
    "\n",
    "- each trial has **Time = 86400 s = 24 h** with interval of **5 min**\n",
    "\n",
    "- target simulated daily traded notional is **$694,928,100.62**\n",
    "\n",
    "- LP commitment is set to be a reasonable constant number in the simulation to avoid liquidity auction\n",
    "\n",
    "- network parameter `market.stake.target.scalingFactor` is set to be [0.5, 5, 50]\n",
    "\n",
    "***Output Metrics***\n",
    "Under different network parameter `market.stake.target.scalingFactor`:\n",
    "\n",
    "- Output 1: LP postion\n",
    "\n",
    "- Output 2: average of LP margin account\n",
    "\n",
    "- Output 3: average of LP bond account\n",
    "\n",
    "- Output 4: average of LP's **general PnL** \n",
    "\n",
    "- Output 5: average of **traded notional**\n",
    "\n",
    "- Output 6: average of market **open interest**\n",
    "\n",
    "- Output 7: average of **target stake** of market \n"
   ]
  },
  {
   "cell_type": "markdown",
   "id": "f4dc32ce",
   "metadata": {},
   "source": [
    "### Call functions and display"
   ]
  },
  {
   "cell_type": "code",
   "execution_count": null,
   "id": "2d27113c",
   "metadata": {},
   "outputs": [],
   "source": [
    "import os\n",
    "from parameter_results.toolkit import SingleParameterExperimentTk\n",
    "\n",
    "experiment = SingleParameterExperimentTk(\n",
    "    path=os.getcwd(),\n",
    "    dt=5/60,\n",
    ")"
   ]
  },
  {
   "cell_type": "code",
   "execution_count": null,
   "id": "bb6307c1",
   "metadata": {},
   "outputs": [],
   "source": [
    "experiment.display([\"variable\"])"
   ]
  },
  {
   "cell_type": "code",
   "execution_count": null,
   "id": "11201a41",
   "metadata": {},
   "outputs": [],
   "source": [
    "experiment.plot_results()"
   ]
  },
  {
   "cell_type": "code",
   "execution_count": null,
   "id": "06ac8c45",
   "metadata": {},
   "outputs": [],
   "source": [
    "experiment.plot_comparison(\n",
    "    variables=[\"External Midprice\", \"Markprice\"],\n",
    "    formats=[\"b-\", \"r:\"],\n",
    "    ylabel=\"Price\",\n",
    "    variables_right=[\"Market State\"],\n",
    "    formats_right=[\"k.\"],\n",
    "    ylabel_right=\"Market State\",\n",
    ")"
   ]
  },
  {
   "cell_type": "code",
   "execution_count": null,
   "id": "61a8ed3c",
   "metadata": {},
   "outputs": [],
   "source": [
    "# Plot LOB\n",
    "experiment.display([\"param_value\", \"iteration\"])"
   ]
  },
  {
   "cell_type": "code",
   "execution_count": null,
   "id": "00418c09",
   "metadata": {},
   "outputs": [],
   "source": [
    "# 2D animation of LOB\n",
    "experiment.animate_lob()"
   ]
  },
  {
   "cell_type": "code",
   "execution_count": null,
   "id": "293fb729",
   "metadata": {},
   "outputs": [],
   "source": [
    "# 3D plot of LOB\n",
    "experiment.plot_lob()"
   ]
  }
 ],
 "metadata": {
  "kernelspec": {
   "display_name": "Python 3.10.5 ('vega-sim-lzu_5rfb-py3.10')",
   "language": "python",
   "name": "python3"
  },
  "language_info": {
   "codemirror_mode": {
    "name": "ipython",
    "version": 3
   },
   "file_extension": ".py",
   "mimetype": "text/x-python",
   "name": "python",
   "nbconvert_exporter": "python",
   "pygments_lexer": "ipython3",
   "version": "3.10.6"
  },
  "vscode": {
   "interpreter": {
    "hash": "fcee2fa48d748e2488b6026bb440d19b7432a8bda11c0a191cabf20bd7d8a9eb"
   }
  }
 },
 "nbformat": 4,
 "nbformat_minor": 5
}
